{
 "cells": [
  {
   "cell_type": "code",
   "execution_count": 1,
   "metadata": {},
   "outputs": [
    {
     "name": "stdout",
     "output_type": "stream",
     "text": [
      "Python: 3.9.0\n"
     ]
    }
   ],
   "source": [
    "from platform import python_version\n",
    "print(\"Python: \" + python_version())"
   ]
  },
  {
   "cell_type": "code",
   "execution_count": 2,
   "metadata": {},
   "outputs": [
    {
     "name": "stdout",
     "output_type": "stream",
     "text": [
      "CV2: 4.5.3\n"
     ]
    }
   ],
   "source": [
    "import cv2\n",
    "print(\"CV2: \" + cv2.__version__)"
   ]
  },
  {
   "cell_type": "code",
   "execution_count": 3,
   "metadata": {},
   "outputs": [
    {
     "name": "stdout",
     "output_type": "stream",
     "text": [
      "Numpy: 1.19.5\n"
     ]
    }
   ],
   "source": [
    "#import pkg_resources\n",
    "#pkg_resources.require(\"numpy==1.18.5\")  # modified to use specific numpy\n",
    "import numpy as np\n",
    "print(\"Numpy: \" + np.__version__)"
   ]
  },
  {
   "cell_type": "code",
   "execution_count": 4,
   "metadata": {},
   "outputs": [
    {
     "name": "stdout",
     "output_type": "stream",
     "text": [
      "Pandas: 1.3.1\n"
     ]
    }
   ],
   "source": [
    "import pandas as pd\n",
    "print(\"Pandas: \" + pd.__version__)"
   ]
  },
  {
   "cell_type": "code",
   "execution_count": 5,
   "metadata": {},
   "outputs": [
    {
     "name": "stdout",
     "output_type": "stream",
     "text": [
      "Tensorflow: 2.5.0\n"
     ]
    }
   ],
   "source": [
    "import tensorflow as tf\n",
    "print(\"Tensorflow: \" + tf.__version__)"
   ]
  },
  {
   "cell_type": "code",
   "execution_count": 6,
   "metadata": {},
   "outputs": [
    {
     "name": "stdout",
     "output_type": "stream",
     "text": [
      "HDF5: 3.1.0\n"
     ]
    }
   ],
   "source": [
    "import h5py\n",
    "print(\"HDF5: \" + h5py.__version__)"
   ]
  },
  {
   "cell_type": "code",
   "execution_count": 7,
   "metadata": {},
   "outputs": [],
   "source": [
    "from os import walk\n",
    "import time\n",
    "import matplotlib\n",
    "from matplotlib import pyplot as plt"
   ]
  },
  {
   "cell_type": "code",
   "execution_count": 8,
   "metadata": {},
   "outputs": [],
   "source": [
    "import regex as re"
   ]
  },
  {
   "cell_type": "code",
   "execution_count": 9,
   "metadata": {},
   "outputs": [],
   "source": [
    "#from skimage.color import rgb2lab, lab2rgb,  rgb2gray"
   ]
  },
  {
   "cell_type": "code",
   "execution_count": 10,
   "metadata": {},
   "outputs": [
    {
     "name": "stdout",
     "output_type": "stream",
     "text": [
      "Default GPU device: /device:GPU:0\n"
     ]
    }
   ],
   "source": [
    "import warnings\n",
    "\n",
    "if not tf.test.gpu_device_name():\n",
    "    warnings.warn(\"No GPU found\")\n",
    "else:\n",
    "    print(\"Default GPU device: {}\".format(tf.test.gpu_device_name()))"
   ]
  },
  {
   "cell_type": "code",
   "execution_count": 11,
   "metadata": {},
   "outputs": [],
   "source": [
    "import os\n",
    "import glob"
   ]
  },
  {
   "cell_type": "markdown",
   "metadata": {},
   "source": [
    "***"
   ]
  },
  {
   "cell_type": "markdown",
   "metadata": {},
   "source": [
    "# Loading Images from Hard-drive"
   ]
  },
  {
   "cell_type": "markdown",
   "metadata": {},
   "source": [
    "#### Clear Crop folder of previous images"
   ]
  },
  {
   "cell_type": "code",
   "execution_count": 12,
   "metadata": {},
   "outputs": [],
   "source": [
    "mydir = './Crop_images/B1/'\n",
    "for file in os.listdir(mydir):\n",
    "    os.remove(os.path.join(mydir, file)) \n",
    "mydir = './Crop_images/B2/'\n",
    "for file in os.listdir(mydir):\n",
    "    os.remove(os.path.join(mydir, file)) \n",
    "mydir = './Crop_images/B3/'\n",
    "for file in os.listdir(mydir):\n",
    "    os.remove(os.path.join(mydir, file)) "
   ]
  },
  {
   "cell_type": "markdown",
   "metadata": {},
   "source": [
    "The load_all_image_path function read all the files in the given directory and return a list of all file's path and the labels. Labels are merely the name of the image file on hard-drive. \n",
    "\n",
    "An example of __files__ is\n",
    "\n",
    "__'./Build2\\2020-03-08_13-14-42_layer_02955.jpg',__\n",
    "\n",
    "Whereas, a __label__ is\n",
    "\n",
    "__'2020-03-08_13-14-42_layer_02955.jpg',__"
   ]
  },
  {
   "cell_type": "code",
   "execution_count": 13,
   "metadata": {},
   "outputs": [],
   "source": [
    "def load_all_image_path(img_dir):\n",
    "    \n",
    "    #img_dir = \"./Build2\" # Enter Directory of all images\n",
    "    img_labels = []\n",
    "    for(_, _, filenames) in walk(img_dir):\n",
    "        img_labels.extend(filenames)\n",
    "        break\n",
    "    data_path = os.path.join(img_dir,'*g')\n",
    "    img_dir_path = glob.glob(data_path)\n",
    "    return img_dir_path, img_labels\n",
    "    "
   ]
  },
  {
   "cell_type": "markdown",
   "metadata": {},
   "source": [
    "__img_dir_paths__ = All Image's directory path/address.\n",
    "<br>\n",
    "__img_names__ = All Image's names."
   ]
  },
  {
   "cell_type": "code",
   "execution_count": 14,
   "metadata": {},
   "outputs": [],
   "source": [
    "img_dir_paths, img_names = load_all_image_path(\"./Build2\")"
   ]
  },
  {
   "cell_type": "code",
   "execution_count": 15,
   "metadata": {},
   "outputs": [
    {
     "name": "stdout",
     "output_type": "stream",
     "text": [
      "./Build2\\2020-03-05_15-01-35_layer_00002.jpg\n",
      "<class 'list'>\n",
      "2020-03-05_15-01-35_layer_00002.jpg\n",
      "<class 'list'>\n"
     ]
    }
   ],
   "source": [
    "print(img_dir_paths[0])\n",
    "print(type(img_dir_paths))\n",
    "print(img_names[0])\n",
    "print(type(img_names))"
   ]
  },
  {
   "cell_type": "markdown",
   "metadata": {},
   "source": [
    "__Total__ Number of Image's paths and image names."
   ]
  },
  {
   "cell_type": "code",
   "execution_count": 16,
   "metadata": {},
   "outputs": [
    {
     "name": "stdout",
     "output_type": "stream",
     "text": [
      "2922\n",
      "2922\n"
     ]
    }
   ],
   "source": [
    "print(len(img_dir_paths))\n",
    "print(len(img_names))"
   ]
  },
  {
   "cell_type": "markdown",
   "metadata": {},
   "source": [
    "### Layers with porosity\n",
    "#### Old Labells"
   ]
  },
  {
   "cell_type": "code",
   "execution_count": 17,
   "metadata": {},
   "outputs": [],
   "source": [
    "b1_prosity_index = list(range(311,380)) + list(range(537, 554)) + list(range(628, 663)) + list(range(832, 862)) + list(range(936, 937)) + list(range(940, 953)) + list(range(1011, 1078)) + list(range(1145, 1152))\n",
    "b2_prosity_index = list(range(311,380)) + list(range(428, 463)) + list(range(531, 560)) + list(range(640, 654)) + list(range(737, 753))\n",
    "b3_prosity_index = list(range(420,456)) + list(range(519, 546)) + list(range(619, 634)) + list(range(719, 736)) + list(range(819, 827)) + list(range(919, 923))"
   ]
  },
  {
   "cell_type": "code",
   "execution_count": 18,
   "metadata": {},
   "outputs": [
    {
     "name": "stdout",
     "output_type": "stream",
     "text": [
      "[311, 312, 313, 314, 315, 316, 317, 318, 319, 320]\n"
     ]
    }
   ],
   "source": [
    "print(b1_prosity_index[0:10])"
   ]
  },
  {
   "cell_type": "markdown",
   "metadata": {},
   "source": [
    "#### New Labells"
   ]
  },
  {
   "cell_type": "code",
   "execution_count": 19,
   "metadata": {},
   "outputs": [],
   "source": [
    "b1_remove_index = [311,312,313,318,320,325,326,335,340,366,369,374,375,376,537,538,539,540,541,542,543,544,545,546,547,\n",
    "                       548,549,550,551,552,553,628,629,630,633,640,641,642,643,646,647,648,649,650,651,653,654,656,657,659,\n",
    "                      661,662,833,832,833,834,835,836,837,838,840,842,843,844,845,846,847,849,850,851,852,853,855,857,936,\n",
    "                       940,947,949,950,952,1011,1011,1012,1014,1018,1019,1020,1029,1030,1045,1075,1145,1146,1147,1148,1149,\n",
    "                       1150,1151]\n",
    "\n",
    "\n",
    "b2_remove_index = [320,324,429,430,431,432,433,434,437,450,451,452,456,459,462,531,532,533,534,535,536,537,\n",
    "                      538,539,540,541,542,544,545,548,549,550,554,559,640,641,642,643,644,645,646,647,651,737,\n",
    "                      740,741,742,743,744,745,748,750,751,752]\n",
    "\n",
    "\n",
    "b3_remove_index = [420,423,425,436,439,442,449,453,519,521,522,533,534,538,541,542,543,620,621,622,627,629,\n",
    "                      630,631,632,721,723,724,727,728,729,733,735,819,820,821,822,826,919,920,921,922]"
   ]
  },
  {
   "cell_type": "code",
   "execution_count": 20,
   "metadata": {},
   "outputs": [],
   "source": [
    "b1_prosity_index = [x for x in b1_prosity_index if x not in b1_remove_index]"
   ]
  },
  {
   "cell_type": "code",
   "execution_count": 21,
   "metadata": {},
   "outputs": [
    {
     "name": "stdout",
     "output_type": "stream",
     "text": [
      "[314, 315, 316, 317, 319, 321, 322, 323, 324, 327]\n",
      "143\n"
     ]
    }
   ],
   "source": [
    "print(b1_prosity_index[0:10])\n",
    "print(len(b1_prosity_index))"
   ]
  },
  {
   "cell_type": "code",
   "execution_count": 22,
   "metadata": {},
   "outputs": [
    {
     "name": "stdout",
     "output_type": "stream",
     "text": [
      "[314, 315, 316, 317, 319, 321, 322, 323, 324, 327, 328, 329, 330, 331, 332, 333, 334, 336, 337, 338, 339, 341, 342, 343, 344, 345, 346, 347, 348, 349, 350, 351, 352, 353, 354, 355, 356, 357, 358, 359, 360, 361, 362, 363, 364, 365, 367, 368, 370, 371, 372, 373, 377, 378, 379, 631, 632, 634, 635, 636, 637, 638, 639, 644, 645, 652, 655, 658, 660, 839, 841, 848, 854, 856, 858, 859, 860, 861, 941, 942, 943, 944, 945, 946, 948, 951, 1013, 1015, 1016, 1017, 1021, 1022, 1023, 1024, 1025, 1026, 1027, 1028, 1031, 1032, 1033, 1034, 1035, 1036, 1037, 1038, 1039, 1040, 1041, 1042, 1043, 1044, 1046, 1047, 1048, 1049, 1050, 1051, 1052, 1053, 1054, 1055, 1056, 1057, 1058, 1059, 1060, 1061, 1062, 1063, 1064, 1065, 1066, 1067, 1068, 1069, 1070, 1071, 1072, 1073, 1074, 1076, 1077]\n"
     ]
    }
   ],
   "source": [
    "print(b1_prosity_index)"
   ]
  },
  {
   "cell_type": "code",
   "execution_count": 23,
   "metadata": {},
   "outputs": [],
   "source": [
    "b2_prosity_index = [x for x in b2_prosity_index if x not in b2_remove_index]"
   ]
  },
  {
   "cell_type": "code",
   "execution_count": 24,
   "metadata": {},
   "outputs": [
    {
     "name": "stdout",
     "output_type": "stream",
     "text": [
      "[311, 312, 313, 314, 315, 316, 317, 318, 319, 321]\n",
      "109\n"
     ]
    }
   ],
   "source": [
    "print(b2_prosity_index[0:10])\n",
    "print(len(b2_prosity_index))"
   ]
  },
  {
   "cell_type": "code",
   "execution_count": 25,
   "metadata": {},
   "outputs": [
    {
     "name": "stdout",
     "output_type": "stream",
     "text": [
      "[311, 312, 313, 314, 315, 316, 317, 318, 319, 321, 322, 323, 325, 326, 327, 328, 329, 330, 331, 332, 333, 334, 335, 336, 337, 338, 339, 340, 341, 342, 343, 344, 345, 346, 347, 348, 349, 350, 351, 352, 353, 354, 355, 356, 357, 358, 359, 360, 361, 362, 363, 364, 365, 366, 367, 368, 369, 370, 371, 372, 373, 374, 375, 376, 377, 378, 379, 428, 435, 436, 438, 439, 440, 441, 442, 443, 444, 445, 446, 447, 448, 449, 453, 454, 455, 457, 458, 460, 461, 543, 546, 547, 551, 552, 553, 555, 556, 557, 558, 648, 649, 650, 652, 653, 738, 739, 746, 747, 749]\n"
     ]
    }
   ],
   "source": [
    "print(b2_prosity_index)"
   ]
  },
  {
   "cell_type": "code",
   "execution_count": 26,
   "metadata": {},
   "outputs": [],
   "source": [
    "b3_prosity_index = [x for x in b3_prosity_index if x not in b3_remove_index]"
   ]
  },
  {
   "cell_type": "code",
   "execution_count": 27,
   "metadata": {},
   "outputs": [
    {
     "name": "stdout",
     "output_type": "stream",
     "text": [
      "[421, 422, 424, 426, 427, 428, 429, 430, 431, 432]\n",
      "65\n"
     ]
    }
   ],
   "source": [
    "print(b3_prosity_index[0:10])\n",
    "print(len(b3_prosity_index))"
   ]
  },
  {
   "cell_type": "code",
   "execution_count": 28,
   "metadata": {},
   "outputs": [
    {
     "name": "stdout",
     "output_type": "stream",
     "text": [
      "[421, 422, 424, 426, 427, 428, 429, 430, 431, 432, 433, 434, 435, 437, 438, 440, 441, 443, 444, 445, 446, 447, 448, 450, 451, 452, 454, 455, 520, 523, 524, 525, 526, 527, 528, 529, 530, 531, 532, 535, 536, 537, 539, 540, 544, 545, 619, 623, 624, 625, 626, 628, 633, 719, 720, 722, 725, 726, 730, 731, 732, 734, 823, 824, 825]\n"
     ]
    }
   ],
   "source": [
    "print(b3_prosity_index)"
   ]
  },
  {
   "cell_type": "markdown",
   "metadata": {},
   "source": [
    "### Image selection and Cropping"
   ]
  },
  {
   "cell_type": "markdown",
   "metadata": {},
   "source": [
    "> The following function receives a chunk of image's path and their corresponding labels. Not all the images in Build2 are relevant to our cylinders. Out of total 2922 images, only 963 images relevant to our 3d objects. Three cylinders names as B1, B2, B3 were printed. Images from 243 to 1243 are related to B1 and B2 cylinders. Whereas, B3 cylinder related images are ranges from 218 to 1218. \n",
    "<br><br><br>\n",
    "Firstly, the images were read into a numpy array called imgs_data. The image dimensions are __height = 2600 and Width = 1420__. Each image is then cropped into three small sections. __Height=1250-1440 and width=650-1100__ is firstly croped from the whole powder bed image.  <br> <br>\n",
    "The cropped image is further is divided into three parts, each containg the image of a cylinder[B1,B2,B3]. The coordinates of __B1=[h:0-190, w:0-150]__, __B2 = [h:0-190, w:150-300]__ , __B3 = [h:0-190, w:300-450]__. The three images were then stored in different folders on the hard-drive.  "
   ]
  },
  {
   "cell_type": "code",
   "execution_count": 29,
   "metadata": {},
   "outputs": [],
   "source": [
    "def crop_save_images(files, directory, labels):\n",
    "    #b1_prosity_index = list(range(311,380)) + list(range(537, 554)) + list(range(628, 663)) + list(range(832, 862)) + list(range(936, 937)) + list(range(940, 953)) + list(range(1011, 1078)) + list(range(1145, 1152))\n",
    "    #b2_prosity_index = list(range(311,380)) + list(range(428, 463)) + list(range(531, 560)) + list(range(640, 654)) + list(range(737, 753))\n",
    "    #b3_prosity_index = list(range(420,456)) + list(range(519, 546)) + list(range(619, 634)) + list(range(719, 736)) + list(range(819, 827)) + list(range(919, 923))\n",
    "    \n",
    "    for f1,lab in zip(files,labels):\n",
    "        #F1 = File path.\n",
    "        #lab = Image label\n",
    "        #print(\"F1: \" + str(f1))\n",
    "        #print(\"Lab: \" +  str(lab))\n",
    "        ########## read image\n",
    "        orig_img = cv2.imread(f1)\n",
    "\n",
    "        ########### crop image\n",
    "        img = orig_img[1250:1440, 650:1100]\n",
    "        img1 = img[0:190,0:150]\n",
    "        img2 = img[0:190,150:300]\n",
    "        img3 = img[0:190,300:450]\n",
    "\n",
    "        ########### Label Image\n",
    "        \n",
    "        tt = lab[:-4].split('_')\n",
    "        #tt = layer number\n",
    "        #print(tt[3])\n",
    "        layer_no = int(tt[3])\n",
    "        #########################################################################################-----B1\n",
    "        if (layer_no in b1_prosity_index):\n",
    "            ############################################################### 2mm\n",
    "            if(layer_no >= 314 and layer_no <=379) or (layer_no >= 1013 and layer_no <=1077):\n",
    "                img_name_b1 = \"1_B1_Layer_\"+str(layer_no)+\"_2mm\"+\".jpg\"\n",
    "            ############################################################### 1mm\n",
    "            elif (layer_no >= 631 and layer_no <=660) or (layer_no >= 839 and layer_no <=861):\n",
    "                img_name_b1 = \"1_B1_Layer_\"+str(layer_no)+\"_1mm\"+\".jpg\"\n",
    "            ############################################################### 0.5mm\n",
    "            elif (layer_no >= 941 and layer_no <=951):\n",
    "                img_name_b1 = \"1_B1_Layer_\"+str(layer_no)+\"_05mm\"+\".jpg\"\n",
    "        else:\n",
    "            img_name_b1 = \"0_B1_Layer_\"+str(layer_no)+\".jpg\"\n",
    "            #print(\"False\")\n",
    "        #########################################################################################-----B2\n",
    "        if (layer_no in b2_prosity_index):\n",
    "            ############################################################### 2mm\n",
    "            if(layer_no >= 311 and layer_no <=379):\n",
    "                img_name_b2 = \"1_B2_Layer_\"+str(layer_no)+\"_2mm\"+\".jpg\"\n",
    "            ############################################################### 1mm\n",
    "            elif (layer_no >= 428 and layer_no <=461):\n",
    "                img_name_b2 = \"1_B2_Layer_\"+str(layer_no)+\"_1mm\"+\".jpg\"\n",
    "            ############################################################### 0.8mm\n",
    "            elif (layer_no >= 543 and layer_no <=558):\n",
    "                img_name_b2 = \"1_B2_Layer_\"+str(layer_no)+\"_08mm\"+\".jpg\"\n",
    "            ############################################################### 0.5mm\n",
    "            elif (layer_no >= 648 and layer_no <=653):\n",
    "                img_name_b2 = \"1_B2_Layer_\"+str(layer_no)+\"_05mm\"+\".jpg\"\n",
    "            ############################################################### 0.4mm\n",
    "            elif (layer_no >= 738 and layer_no <=749):\n",
    "                img_name_b2 = \"1_B2_Layer_\"+str(layer_no)+\"_04mm\"+\".jpg\"\n",
    "            \n",
    "        else:\n",
    "            img_name_b2 = \"0_B2_Layer_\"+str(layer_no)+\".jpg\"\n",
    "            #print(\"False\")\n",
    "        #########################################################################################-----B3\n",
    "        if (layer_no in b3_prosity_index):\n",
    "            ############################################################### 1mm\n",
    "            if(layer_no >= 421 and layer_no <=455):\n",
    "                img_name_b3 = \"1_B3_Layer_\"+str(layer_no)+\"_1mm\"+\".jpg\"\n",
    "            ############################################################### 0.8mm\n",
    "            elif (layer_no >= 520 and layer_no <=545):\n",
    "                img_name_b3 = \"1_B3_Layer_\"+str(layer_no)+\"_08mm\"+\".jpg\"\n",
    "            ############################################################### 0.5mm\n",
    "            elif (layer_no >= 619 and layer_no <=633):\n",
    "                img_name_b3 = \"1_B3_Layer_\"+str(layer_no)+\"_05mm\"+\".jpg\"\n",
    "            ############################################################### 0.4mm\n",
    "            elif (layer_no >= 719 and layer_no <=734):\n",
    "                img_name_b3 = \"1_B3_Layer_\"+str(layer_no)+\"_04mm\"+\".jpg\"\n",
    "            ############################################################### 0.2mm\n",
    "            elif (layer_no >= 823 and layer_no <=825):\n",
    "                img_name_b3 = \"1_B3_Layer_\"+str(layer_no)+\"_02mm\"+\".jpg\"\n",
    "            #print(layer_no)\n",
    "            #print(\"True\")\n",
    "        else:\n",
    "            img_name_b3 = \"0_B3_Layer_\"+str(layer_no)+\".jpg\"\n",
    "            #print(\"False\")\n",
    "        ########### store image\n",
    "        if(layer_no>243 and layer_no<1243):\n",
    "            img_name = directory[0] + img_name_b1\n",
    "            matplotlib.image.imsave(img_name, img1)\n",
    "        \n",
    "            img_name = directory[1] + img_name_b2\n",
    "            matplotlib.image.imsave(img_name, img2)\n",
    "        if(layer_no>218 and layer_no<1218):\n",
    "            img_name = directory[2] + img_name_b3\n",
    "            matplotlib.image.imsave(img_name, img3)\n",
    "        #break\n"
   ]
  },
  {
   "cell_type": "markdown",
   "metadata": {},
   "source": [
    "Since out of all the images the first 1250 layers/images are relevant to our builts. That's why only the first 1250 are considered. For B1 and B2, the effective printing layers are 244-1242 and for B3 219-1217. But for simplicity, uniformity and avoiding complexity, first 1250 layers are selected."
   ]
  },
  {
   "cell_type": "code",
   "execution_count": null,
   "metadata": {},
   "outputs": [],
   "source": [
    "directories = [\"./Crop_images/B1/\", \"./Crop_images/B2/\", \"./Crop_images/B3/\"]\n",
    "crop_save_images(img_dir_paths[217:1206] ,directories, img_names[217:1206]) "
   ]
  },
  {
   "cell_type": "markdown",
   "metadata": {},
   "source": [
    "##  Loading cropped images\n",
    "### B1 Images"
   ]
  },
  {
   "cell_type": "code",
   "execution_count": 74,
   "metadata": {},
   "outputs": [
    {
     "name": "stdout",
     "output_type": "stream",
     "text": [
      "(190, 150, 3)\n",
      "0\n",
      "b1_1000\n"
     ]
    }
   ],
   "source": [
    "files, labels = load_all_image_path(\"./Crop_images/B1\")\n",
    "#print(labels[0])\n",
    "#print(files[0])\n",
    "data = []\n",
    "b1_labels = list()\n",
    "b1_layer_numbers = list()\n",
    "for f1, lab in zip(files, labels):\n",
    "    #print(\"lab:\" + lab)\n",
    "    layer_num = re.search('Layer_(.+?).jpg', lab).group(1)\n",
    "    b1_layer_numbers.append(\"b1_\"+str(layer_num))\n",
    "    b1_labels.append(int(lab[0]))\n",
    "    img = cv2.imread(f1)\n",
    "    ######### Convert to Images to grey scale.\n",
    "    #gray = cv2.cvtColor(img, cv2.COLOR_BGR2GRAY)\n",
    "    data.append(img)\n",
    "b1_images = np.array(data)\n",
    "print(b1_images[0].shape)\n",
    "print(b1_labels[0])\n",
    "print(b1_layer_numbers[0])"
   ]
  },
  {
   "cell_type": "code",
   "execution_count": 75,
   "metadata": {},
   "outputs": [
    {
     "name": "stdout",
     "output_type": "stream",
     "text": [
      "[0 1] [826 137]\n",
      "(963, 190, 150, 3)\n"
     ]
    }
   ],
   "source": [
    "(unique, counts) = np.unique(b1_labels, return_counts=True)\n",
    "print(unique, counts)\n",
    "print(b1_images.shape)"
   ]
  },
  {
   "cell_type": "code",
   "execution_count": 76,
   "metadata": {},
   "outputs": [
    {
     "name": "stdout",
     "output_type": "stream",
     "text": [
      "(190, 150, 3)\n",
      "0\n",
      "b2_1000\n"
     ]
    }
   ],
   "source": [
    "files, labels = load_all_image_path(\"./Crop_images/B2\")\n",
    "data = []\n",
    "b2_labels = list()\n",
    "b2_layer_numbers = list()\n",
    "for f1, lab in zip(files, labels):\n",
    "    layer_num = re.search('Layer_(.+?).jpg', lab).group(1)\n",
    "    b2_layer_numbers.append(\"b2_\"+str(layer_num))\n",
    "    img = cv2.imread(f1)\n",
    "    b2_labels.append(int(lab[0]))\n",
    "    ######## Convert to Images to grey scale.\n",
    "    #gray = cv2.cvtColor(img, cv2.COLOR_BGR2GRAY)\n",
    "    data.append(img)\n",
    "b2_images = np.array(data)\n",
    "print(b2_images[0].shape)\n",
    "print(b2_labels[0])\n",
    "print(b2_layer_numbers[0])"
   ]
  },
  {
   "cell_type": "code",
   "execution_count": 77,
   "metadata": {},
   "outputs": [
    {
     "name": "stdout",
     "output_type": "stream",
     "text": [
      "[0 1] [854 109]\n",
      "(963, 190, 150, 3)\n"
     ]
    }
   ],
   "source": [
    "(unique, counts) = np.unique(b2_labels, return_counts=True)\n",
    "print(unique, counts)\n",
    "print(b2_images.shape)"
   ]
  },
  {
   "cell_type": "code",
   "execution_count": 78,
   "metadata": {},
   "outputs": [
    {
     "name": "stdout",
     "output_type": "stream",
     "text": [
      "(190, 150, 3)\n",
      "0\n",
      "b3_1000\n"
     ]
    }
   ],
   "source": [
    "files, labels = load_all_image_path(\"./Crop_images/B3\")\n",
    "data = []\n",
    "b3_labels = list()\n",
    "b3_layer_numbers = list()\n",
    "for f1, lab in zip(files, labels):\n",
    "    layer_num = re.search('Layer_(.+?).jpg', lab).group(1)\n",
    "    b3_layer_numbers.append(\"b3_\"+str(layer_num))\n",
    "    img = cv2.imread(f1)\n",
    "    b3_labels.append(int(lab[0]))\n",
    "    ######## Convert to Images to grey scale.\n",
    "    #gray = cv2.cvtColor(img, cv2.COLOR_BGR2GRAY)\n",
    "    data.append(img)\n",
    "b3_images = np.array(data)\n",
    "print(b3_images[0].shape)\n",
    "print(b3_labels[0])\n",
    "print(b3_layer_numbers[0])"
   ]
  },
  {
   "cell_type": "code",
   "execution_count": 79,
   "metadata": {},
   "outputs": [
    {
     "name": "stdout",
     "output_type": "stream",
     "text": [
      "[0 1] [898  65]\n",
      "(963, 190, 150, 3)\n"
     ]
    }
   ],
   "source": [
    "(unique, counts) = np.unique(b3_labels, return_counts=True)\n",
    "print(unique, counts)\n",
    "print(b3_images.shape)"
   ]
  },
  {
   "cell_type": "markdown",
   "metadata": {},
   "source": [
    "#### Concatenate all images datasets into one"
   ]
  },
  {
   "cell_type": "markdown",
   "metadata": {},
   "source": [
    "X = images.      y = image Labells"
   ]
  },
  {
   "cell_type": "code",
   "execution_count": 80,
   "metadata": {},
   "outputs": [],
   "source": [
    "X = np.concatenate((b1_images, b2_images, b3_images), axis=0)\n",
    "y = b1_labels + b2_labels + b3_labels\n",
    "layer_nums = b1_layer_numbers + b2_layer_numbers + b3_layer_numbers"
   ]
  },
  {
   "cell_type": "code",
   "execution_count": 81,
   "metadata": {},
   "outputs": [
    {
     "name": "stdout",
     "output_type": "stream",
     "text": [
      "X Shape: (2889, 190, 150, 3)\n",
      "Total y: 2889\n",
      "0\n",
      "Total Layer Numbers: 2889\n",
      "b1_1000\n"
     ]
    }
   ],
   "source": [
    "print(\"X Shape: \" + str(X.shape))\n",
    "print(\"Total y: \" + str(len(y)))\n",
    "print(y[0])\n",
    "print(\"Total Layer Numbers: \" + str(len(layer_nums)))\n",
    "print(layer_nums[0])"
   ]
  },
  {
   "cell_type": "code",
   "execution_count": 82,
   "metadata": {},
   "outputs": [
    {
     "name": "stdout",
     "output_type": "stream",
     "text": [
      "['b1_1000', 'b1_1001', 'b1_1002', 'b1_1003', 'b1_1004', 'b1_1005', 'b1_1006', 'b1_1007', 'b1_1008', 'b1_1009', 'b1_1010', 'b1_1011', 'b1_1012', 'b1_1014', 'b1_1018', 'b1_1019', 'b1_1020', 'b1_1029', 'b1_1030', 'b1_1045', 'b1_1075', 'b1_1078', 'b1_1079', 'b1_1080', 'b1_1081', 'b1_1082', 'b1_1083', 'b1_1084', 'b1_1085', 'b1_1086']\n"
     ]
    }
   ],
   "source": [
    "print(layer_nums[0:30])"
   ]
  },
  {
   "cell_type": "markdown",
   "metadata": {},
   "source": [
    "# Preprocessing Images"
   ]
  },
  {
   "cell_type": "markdown",
   "metadata": {},
   "source": [
    "## Thresholding\n",
    "### 1. Binary Thresholding"
   ]
  },
  {
   "cell_type": "markdown",
   "metadata": {},
   "source": [
    "### Ostu Thresholding/Binarisation"
   ]
  },
  {
   "cell_type": "code",
   "execution_count": 83,
   "metadata": {},
   "outputs": [],
   "source": [
    "def ostu_thd(XX):\n",
    "    rnd_images = []\n",
    "    for img in XX:\n",
    "        #img = rgb2gray(img)\n",
    "        img = cv2.cvtColor(img, cv2.COLOR_BGR2GRAY)\n",
    "        # Otsu's thresholding\n",
    "        ret2,th2 = cv2.threshold(img,0,255,cv2.THRESH_BINARY+cv2.THRESH_OTSU)\n",
    "        rnd_images.append(th2)\n",
    "    test_images = np.array(rnd_images)\n",
    "    \n",
    "    return test_images"
   ]
  },
  {
   "cell_type": "code",
   "execution_count": 84,
   "metadata": {},
   "outputs": [],
   "source": [
    "X = ostu_thd(X)"
   ]
  },
  {
   "cell_type": "code",
   "execution_count": 85,
   "metadata": {},
   "outputs": [
    {
     "name": "stdout",
     "output_type": "stream",
     "text": [
      "X Shape after Ostu Binarisation: (2889, 190, 150)\n"
     ]
    }
   ],
   "source": [
    "print(\"X Shape after Ostu Binarisation: \" + str(X.shape))"
   ]
  },
  {
   "cell_type": "markdown",
   "metadata": {},
   "source": [
    "#### Indeces to track train-test split\n",
    "<br>\n",
    "Generate range of number equal to total number of images in the X. \n",
    "<br>\n",
    "__indeces__ = [0-2888]"
   ]
  },
  {
   "cell_type": "code",
   "execution_count": 86,
   "metadata": {},
   "outputs": [
    {
     "name": "stdout",
     "output_type": "stream",
     "text": [
      "[   0    1    2 ... 2886 2887 2888]\n"
     ]
    }
   ],
   "source": [
    "indeces = np.arange(0,2889,1)\n",
    "print((indeces))"
   ]
  },
  {
   "cell_type": "markdown",
   "metadata": {},
   "source": [
    "### Train and Test Split"
   ]
  },
  {
   "cell_type": "code",
   "execution_count": 87,
   "metadata": {},
   "outputs": [],
   "source": [
    "from sklearn.model_selection import train_test_split\n",
    "\n",
    "# test_size is the test size of the total dataset, random_state controls the shuffling of data. same state returns same data always.\n",
    "X_train, X_test, y_train, y_test, X_indeces, y_indeces = train_test_split(X, y,indeces, test_size=0.4, random_state=786) "
   ]
  },
  {
   "cell_type": "code",
   "execution_count": 88,
   "metadata": {},
   "outputs": [
    {
     "name": "stdout",
     "output_type": "stream",
     "text": [
      "Train Data:(array([0, 1]), array([1551,  182], dtype=int64))\n"
     ]
    }
   ],
   "source": [
    "print(\"Train Data:\" + str(np.unique(y_train, return_counts=True)))"
   ]
  },
  {
   "cell_type": "code",
   "execution_count": 89,
   "metadata": {},
   "outputs": [
    {
     "name": "stdout",
     "output_type": "stream",
     "text": [
      "Test Data:(array([0, 1]), array([1027,  129], dtype=int64))\n"
     ]
    }
   ],
   "source": [
    "print(\"Test Data:\" + str(np.unique(y_test, return_counts=True)))"
   ]
  },
  {
   "cell_type": "markdown",
   "metadata": {},
   "source": [
    "### Data Pre processing"
   ]
  },
  {
   "cell_type": "markdown",
   "metadata": {},
   "source": [
    "### Reshaping Data to adjust greyscal dimension"
   ]
  },
  {
   "cell_type": "code",
   "execution_count": 90,
   "metadata": {},
   "outputs": [
    {
     "name": "stdout",
     "output_type": "stream",
     "text": [
      "Before Reshaping the shape of train and test dataset:\n",
      "(1733, 190, 150)\n",
      "(1156, 190, 150)\n"
     ]
    }
   ],
   "source": [
    "print(\"Before Reshaping the shape of train and test dataset:\")\n",
    "print(X_train.shape)\n",
    "print(X_test.shape)"
   ]
  },
  {
   "cell_type": "code",
   "execution_count": 91,
   "metadata": {},
   "outputs": [],
   "source": [
    "# reshape to be [samples][width][height][channels]\n",
    "X_train = X_train.reshape((X_train.shape[0], 190, 150, 1))\n",
    "X_test = X_test.reshape((X_test.shape[0], 190, 150, 1))"
   ]
  },
  {
   "cell_type": "code",
   "execution_count": 92,
   "metadata": {},
   "outputs": [
    {
     "name": "stdout",
     "output_type": "stream",
     "text": [
      "After Reshaping the shape of train and test dataset:\n",
      "(1733, 190, 150, 1)\n",
      "(1156, 190, 150, 1)\n"
     ]
    }
   ],
   "source": [
    "print(\"After Reshaping the shape of train and test dataset:\")\n",
    "print(X_train.shape)\n",
    "print(X_test.shape)"
   ]
  },
  {
   "cell_type": "code",
   "execution_count": 93,
   "metadata": {},
   "outputs": [],
   "source": [
    "# Convert the array to float32 as opposed to uint8\n",
    "X_train = X_train.astype(np.float32)\n",
    "X_test = X_test.astype(np.float32)\n",
    "\n",
    "# Convert the pixel values from integers between 0 and 255 to floats between 0 and 1\n",
    "X_train /= 255\n",
    "X_test /=  255"
   ]
  },
  {
   "cell_type": "code",
   "execution_count": 94,
   "metadata": {},
   "outputs": [
    {
     "name": "stdout",
     "output_type": "stream",
     "text": [
      "Before 1\n",
      "After [0. 1.]\n"
     ]
    }
   ],
   "source": [
    "NUM_DIGITS = 2\n",
    "\n",
    "print(\"Before\", y_train[1210]) # The format of the labels before conversion\n",
    "\n",
    "y_train  = tf.keras.utils.to_categorical(y_train, NUM_DIGITS)\n",
    "\n",
    "print(\"After\", y_train[1210]) # The format of the labels after conversion\n",
    "\n",
    "y_test = tf.keras.utils.to_categorical(y_test, NUM_DIGITS)"
   ]
  },
  {
   "cell_type": "code",
   "execution_count": 95,
   "metadata": {},
   "outputs": [
    {
     "name": "stdout",
     "output_type": "stream",
     "text": [
      "Train y: [[1. 0.]\n",
      " [1. 0.]\n",
      " [0. 1.]\n",
      " [1. 0.]\n",
      " [1. 0.]]\n",
      "Test y: [[1. 0.]\n",
      " [1. 0.]\n",
      " [1. 0.]\n",
      " [1. 0.]\n",
      " [0. 1.]]\n"
     ]
    }
   ],
   "source": [
    "print(\"Train y: \" + str(y_train[0:5]))\n",
    "print(\"Test y: \" + str(y_test[0:5]))"
   ]
  },
  {
   "cell_type": "markdown",
   "metadata": {},
   "source": [
    "### GPU Configuration"
   ]
  },
  {
   "cell_type": "code",
   "execution_count": 96,
   "metadata": {},
   "outputs": [
    {
     "name": "stdout",
     "output_type": "stream",
     "text": [
      "Num Devices Available:  4\n"
     ]
    }
   ],
   "source": [
    "print(\"Num Devices Available: \", len(tf.config.experimental.list_physical_devices()))"
   ]
  },
  {
   "cell_type": "code",
   "execution_count": 97,
   "metadata": {},
   "outputs": [
    {
     "name": "stdout",
     "output_type": "stream",
     "text": [
      "Num CPUs Available:  1\n"
     ]
    }
   ],
   "source": [
    "print(\"Num CPUs Available: \", len(tf.config.experimental.list_physical_devices('CPU')))"
   ]
  },
  {
   "cell_type": "code",
   "execution_count": 98,
   "metadata": {},
   "outputs": [
    {
     "name": "stdout",
     "output_type": "stream",
     "text": [
      "Num GPUs Available:  1\n"
     ]
    }
   ],
   "source": [
    "print(\"Num GPUs Available: \", len(tf.config.experimental.list_physical_devices('GPU')))"
   ]
  },
  {
   "cell_type": "code",
   "execution_count": 99,
   "metadata": {},
   "outputs": [
    {
     "name": "stdout",
     "output_type": "stream",
     "text": [
      "[name: \"/device:CPU:0\"\n",
      "device_type: \"CPU\"\n",
      "memory_limit: 268435456\n",
      "locality {\n",
      "}\n",
      "incarnation: 18438459799518078725\n",
      ", name: \"/device:XLA_CPU:0\"\n",
      "device_type: \"XLA_CPU\"\n",
      "memory_limit: 17179869184\n",
      "locality {\n",
      "}\n",
      "incarnation: 4064041702093851322\n",
      "physical_device_desc: \"device: XLA_CPU device\"\n",
      ", name: \"/device:GPU:0\"\n",
      "device_type: \"GPU\"\n",
      "memory_limit: 3133590732\n",
      "locality {\n",
      "  bus_id: 1\n",
      "  links {\n",
      "  }\n",
      "}\n",
      "incarnation: 13117710134312297416\n",
      "physical_device_desc: \"device: 0, name: GeForce GTX 1050 Ti, pci bus id: 0000:01:00.0, compute capability: 6.1\"\n",
      ", name: \"/device:XLA_GPU:0\"\n",
      "device_type: \"XLA_GPU\"\n",
      "memory_limit: 17179869184\n",
      "locality {\n",
      "}\n",
      "incarnation: 18159742553390705136\n",
      "physical_device_desc: \"device: XLA_GPU device\"\n",
      "]\n"
     ]
    }
   ],
   "source": [
    "from tensorflow.python.client import device_lib\n",
    "print(device_lib.list_local_devices())"
   ]
  },
  {
   "cell_type": "code",
   "execution_count": 100,
   "metadata": {},
   "outputs": [],
   "source": [
    "#import keras\n",
    "#config = tf.ConfigProto( device_count = {'GPU': 1 , 'CPU': 56} ) \n",
    "#sess = tf.Session(config=config) \n",
    "#keras.backend.set_session(sess)"
   ]
  },
  {
   "cell_type": "code",
   "execution_count": 101,
   "metadata": {},
   "outputs": [],
   "source": [
    "#gpus = tf.config.experimental.list_physical_devices('GPU')\n",
    "#if gpus:\n",
    "  # Restrict TensorFlow to only use the first GPU\n",
    "#  try:\n",
    "#    tf.config.experimental.set_visible_devices(gpus[0], 'GPU')\n",
    "#    logical_gpus = tf.config.experimental.list_logical_devices('GPU')\n",
    "#    print(len(gpus), \"Physical GPUs,\", len(logical_gpus), \"Logical GPU\")\n",
    "#  except RuntimeError as e:\n",
    "    # Visible devices must be set before GPUs have been initialized\n",
    "#    print(e)"
   ]
  },
  {
   "cell_type": "code",
   "execution_count": 102,
   "metadata": {},
   "outputs": [],
   "source": [
    "#print(\"Num GPUs Available: \", len(tf.config.experimental.list_physical_devices('GPU')))\n",
    "#from tensorflow.keras import backend\n",
    "#config = tf.ConfigProto( device_count = {'GPU': 1 , 'CPU': 56} ) \n",
    "#sess = tf.Session(config=config) \n",
    "#backend.set_session(sess)"
   ]
  },
  {
   "cell_type": "markdown",
   "metadata": {},
   "source": [
    "### Model"
   ]
  },
  {
   "cell_type": "code",
   "execution_count": 103,
   "metadata": {},
   "outputs": [
    {
     "name": "stdout",
     "output_type": "stream",
     "text": [
      "Model: \"sequential\"\n",
      "_________________________________________________________________\n",
      "Layer (type)                 Output Shape              Param #   \n",
      "=================================================================\n",
      "conv2d (Conv2D)              (None, 190, 150, 32)      832       \n",
      "_________________________________________________________________\n",
      "max_pooling2d (MaxPooling2D) (None, 95, 75, 32)        0         \n",
      "_________________________________________________________________\n",
      "conv2d_1 (Conv2D)            (None, 91, 71, 48)        38448     \n",
      "_________________________________________________________________\n",
      "max_pooling2d_1 (MaxPooling2 (None, 45, 35, 48)        0         \n",
      "_________________________________________________________________\n",
      "flatten (Flatten)            (None, 75600)             0         \n",
      "_________________________________________________________________\n",
      "dense (Dense)                (None, 512)               38707712  \n",
      "_________________________________________________________________\n",
      "dense_1 (Dense)              (None, 256)               131328    \n",
      "_________________________________________________________________\n",
      "dense_2 (Dense)              (None, 84)                21588     \n",
      "_________________________________________________________________\n",
      "dense_3 (Dense)              (None, 2)                 170       \n",
      "=================================================================\n",
      "Total params: 38,900,078\n",
      "Trainable params: 38,900,078\n",
      "Non-trainable params: 0\n",
      "_________________________________________________________________\n"
     ]
    }
   ],
   "source": [
    "np.random.seed(786)\n",
    "model = tf.keras.Sequential()\n",
    "\n",
    "model.add(tf.keras.layers.Conv2D(filters=32, kernel_size=(5, 5), padding='same', activation='relu', input_shape=(190, 150,1)))\n",
    "model.add(tf.keras.layers.MaxPool2D(strides=2))\n",
    "model.add(tf.keras.layers.Conv2D(filters=48, kernel_size=(5, 5), padding='valid', activation='relu'))\n",
    "model.add(tf.keras.layers.MaxPool2D(strides=2))\n",
    "model.add(tf.keras.layers.Flatten())\n",
    "model.add(tf.keras.layers.Dense(512, activation=tf.nn.relu, input_shape=(28500,)))\n",
    "model.add(tf.keras.layers.Dense(256, activation='relu'))\n",
    "model.add(tf.keras.layers.Dense(84, activation='relu'))\n",
    "#model.add(tf.keras.layers.Dense(10, activation='softmax'))\n",
    "\n",
    "\n",
    "\n",
    "model.add(tf.keras.layers.Dense(2, activation=tf.nn.softmax))\n",
    "\n",
    "# We will now compile and print out a summary of our model\n",
    "model.compile(loss='categorical_crossentropy',\n",
    "              optimizer='rmsprop',\n",
    "              metrics=['accuracy'])\n",
    "\n",
    "model.summary()"
   ]
  },
  {
   "cell_type": "code",
   "execution_count": 104,
   "metadata": {},
   "outputs": [
    {
     "name": "stdout",
     "output_type": "stream",
     "text": [
      "(1733, 190, 150, 1)\n",
      "(array([0., 1.], dtype=float32), array([1733, 1733], dtype=int64))\n"
     ]
    }
   ],
   "source": [
    "print(X_train.shape)\n",
    "print(str(np.unique(y_train, return_counts=True)))"
   ]
  },
  {
   "cell_type": "markdown",
   "metadata": {},
   "source": [
    "### Class Weight  "
   ]
  },
  {
   "cell_type": "code",
   "execution_count": 105,
   "metadata": {},
   "outputs": [],
   "source": [
    "weight_for_0 = 0.3\n",
    "weight_for_1 = 0.7\n",
    "my_class_weight = {0: weight_for_0, 1: weight_for_1}\n"
   ]
  },
  {
   "cell_type": "code",
   "execution_count": 106,
   "metadata": {},
   "outputs": [
    {
     "name": "stdout",
     "output_type": "stream",
     "text": [
      "Epoch 1/50\n",
      "37/37 [==============================] - 4s 120ms/step - loss: 0.6863 - accuracy: 0.8751 - val_loss: 0.1933 - val_accuracy: 0.9318\n",
      "Epoch 2/50\n",
      "37/37 [==============================] - 4s 104ms/step - loss: 0.0879 - accuracy: 0.9242 - val_loss: 0.1328 - val_accuracy: 0.9633\n",
      "Epoch 3/50\n",
      "37/37 [==============================] - 4s 104ms/step - loss: 0.0543 - accuracy: 0.9673 - val_loss: 0.1237 - val_accuracy: 0.9703\n",
      "Epoch 4/50\n",
      "37/37 [==============================] - 4s 104ms/step - loss: 0.0331 - accuracy: 0.9802 - val_loss: 0.1694 - val_accuracy: 0.9615\n",
      "Epoch 5/50\n",
      "37/37 [==============================] - 4s 104ms/step - loss: 0.0286 - accuracy: 0.9811 - val_loss: 0.1484 - val_accuracy: 0.9650\n",
      "Epoch 6/50\n",
      "37/37 [==============================] - 4s 104ms/step - loss: 0.0178 - accuracy: 0.9879 - val_loss: 0.1982 - val_accuracy: 0.9650\n",
      "Epoch 7/50\n",
      "37/37 [==============================] - 4s 104ms/step - loss: 0.0224 - accuracy: 0.9845 - val_loss: 0.2086 - val_accuracy: 0.9598\n",
      "Epoch 8/50\n",
      "37/37 [==============================] - 4s 104ms/step - loss: 0.0256 - accuracy: 0.9922 - val_loss: 0.2039 - val_accuracy: 0.9598\n",
      "Epoch 9/50\n",
      "37/37 [==============================] - 4s 104ms/step - loss: 0.0053 - accuracy: 0.9940 - val_loss: 0.2964 - val_accuracy: 0.9580\n",
      "Epoch 10/50\n",
      "37/37 [==============================] - 4s 104ms/step - loss: 0.0080 - accuracy: 0.9931 - val_loss: 0.2360 - val_accuracy: 0.9598\n",
      "Epoch 11/50\n",
      "37/37 [==============================] - 4s 104ms/step - loss: 0.0722 - accuracy: 0.9879 - val_loss: 0.2387 - val_accuracy: 0.9668\n",
      "Epoch 12/50\n",
      "37/37 [==============================] - 4s 104ms/step - loss: 4.3491e-04 - accuracy: 1.0000 - val_loss: 0.3630 - val_accuracy: 0.9650\n",
      "Epoch 13/50\n",
      "37/37 [==============================] - 4s 104ms/step - loss: 6.9638e-05 - accuracy: 1.0000 - val_loss: 0.4351 - val_accuracy: 0.9615\n",
      "Epoch 14/50\n",
      "37/37 [==============================] - 4s 104ms/step - loss: 0.0053 - accuracy: 0.9983 - val_loss: 0.4727 - val_accuracy: 0.9615\n",
      "Epoch 15/50\n",
      "37/37 [==============================] - 4s 104ms/step - loss: 2.6749e-05 - accuracy: 1.0000 - val_loss: 0.5522 - val_accuracy: 0.9598\n",
      "Epoch 16/50\n",
      "37/37 [==============================] - 4s 104ms/step - loss: 1.2077e-06 - accuracy: 1.0000 - val_loss: 0.6349 - val_accuracy: 0.9598\n",
      "Epoch 17/50\n",
      "37/37 [==============================] - 4s 104ms/step - loss: 1.0314e-07 - accuracy: 1.0000 - val_loss: 0.6992 - val_accuracy: 0.9598\n",
      "Epoch 18/50\n",
      "37/37 [==============================] - 4s 104ms/step - loss: 3.7826e-08 - accuracy: 1.0000 - val_loss: 0.7440 - val_accuracy: 0.9633\n",
      "Epoch 19/50\n",
      "37/37 [==============================] - 4s 104ms/step - loss: 0.0527 - accuracy: 0.9983 - val_loss: 0.4830 - val_accuracy: 0.9633\n",
      "Epoch 20/50\n",
      "37/37 [==============================] - 4s 104ms/step - loss: 2.9201e-06 - accuracy: 1.0000 - val_loss: 0.4976 - val_accuracy: 0.9633\n",
      "Epoch 21/50\n",
      "37/37 [==============================] - 4s 104ms/step - loss: 1.7331e-06 - accuracy: 1.0000 - val_loss: 0.5288 - val_accuracy: 0.9633\n",
      "Epoch 22/50\n",
      "37/37 [==============================] - 4s 104ms/step - loss: 1.0738e-06 - accuracy: 1.0000 - val_loss: 0.6017 - val_accuracy: 0.9633\n",
      "Epoch 23/50\n",
      "37/37 [==============================] - 4s 104ms/step - loss: 6.6832e-08 - accuracy: 1.0000 - val_loss: 0.6378 - val_accuracy: 0.9633\n",
      "Epoch 24/50\n",
      "37/37 [==============================] - 4s 104ms/step - loss: 1.8677e-08 - accuracy: 1.0000 - val_loss: 0.6835 - val_accuracy: 0.9633\n",
      "Epoch 25/50\n",
      "37/37 [==============================] - 4s 104ms/step - loss: 5.0620e-09 - accuracy: 1.0000 - val_loss: 0.7436 - val_accuracy: 0.9633\n",
      "Epoch 26/50\n",
      "37/37 [==============================] - 4s 104ms/step - loss: 1.4170e-09 - accuracy: 1.0000 - val_loss: 0.7896 - val_accuracy: 0.9633\n",
      "Epoch 27/50\n",
      "37/37 [==============================] - 4s 104ms/step - loss: 3.1830e-10 - accuracy: 1.0000 - val_loss: 0.8316 - val_accuracy: 0.9633\n",
      "Epoch 28/50\n",
      "37/37 [==============================] - 4s 104ms/step - loss: 1.5402e-10 - accuracy: 1.0000 - val_loss: 0.8487 - val_accuracy: 0.9633\n",
      "Epoch 29/50\n",
      "37/37 [==============================] - 4s 105ms/step - loss: 6.1607e-11 - accuracy: 1.0000 - val_loss: 0.8671 - val_accuracy: 0.9633\n",
      "Epoch 30/50\n",
      "37/37 [==============================] - 4s 104ms/step - loss: 3.0803e-11 - accuracy: 1.0000 - val_loss: 0.8746 - val_accuracy: 0.9633\n",
      "Epoch 31/50\n",
      "37/37 [==============================] - 4s 105ms/step - loss: 3.0803e-11 - accuracy: 1.0000 - val_loss: 0.8793 - val_accuracy: 0.9633\n",
      "Epoch 32/50\n",
      "37/37 [==============================] - 4s 105ms/step - loss: 3.0803e-11 - accuracy: 1.0000 - val_loss: 0.8891 - val_accuracy: 0.9633\n",
      "Epoch 33/50\n",
      "37/37 [==============================] - 4s 104ms/step - loss: 3.0803e-11 - accuracy: 1.0000 - val_loss: 0.8911 - val_accuracy: 0.9633\n",
      "Epoch 34/50\n",
      "37/37 [==============================] - 4s 105ms/step - loss: 3.0803e-11 - accuracy: 1.0000 - val_loss: 0.8955 - val_accuracy: 0.9633\n",
      "Epoch 35/50\n",
      "37/37 [==============================] - 4s 105ms/step - loss: 3.0803e-11 - accuracy: 1.0000 - val_loss: 0.8968 - val_accuracy: 0.9633\n",
      "Epoch 36/50\n",
      "37/37 [==============================] - 4s 105ms/step - loss: 3.0803e-11 - accuracy: 1.0000 - val_loss: 0.8963 - val_accuracy: 0.9633\n",
      "Epoch 37/50\n",
      "37/37 [==============================] - 4s 104ms/step - loss: 0.0000e+00 - accuracy: 1.0000 - val_loss: 0.9005 - val_accuracy: 0.9633\n",
      "Epoch 38/50\n",
      "37/37 [==============================] - 4s 105ms/step - loss: 0.0000e+00 - accuracy: 1.0000 - val_loss: 0.9049 - val_accuracy: 0.9633\n",
      "Epoch 39/50\n",
      "37/37 [==============================] - 4s 104ms/step - loss: 0.0000e+00 - accuracy: 1.0000 - val_loss: 0.9069 - val_accuracy: 0.9633\n",
      "Epoch 40/50\n",
      "37/37 [==============================] - 4s 105ms/step - loss: 0.0000e+00 - accuracy: 1.0000 - val_loss: 0.9090 - val_accuracy: 0.9633\n",
      "Epoch 41/50\n",
      "37/37 [==============================] - 4s 105ms/step - loss: 0.0000e+00 - accuracy: 1.0000 - val_loss: 0.9102 - val_accuracy: 0.9633\n",
      "Epoch 42/50\n",
      "37/37 [==============================] - 4s 106ms/step - loss: 0.0000e+00 - accuracy: 1.0000 - val_loss: 0.9124 - val_accuracy: 0.9633\n",
      "Epoch 43/50\n",
      "37/37 [==============================] - 4s 106ms/step - loss: 0.0000e+00 - accuracy: 1.0000 - val_loss: 0.9142 - val_accuracy: 0.9633\n",
      "Epoch 44/50\n",
      "37/37 [==============================] - 4s 106ms/step - loss: 0.0000e+00 - accuracy: 1.0000 - val_loss: 0.9171 - val_accuracy: 0.9633\n",
      "Epoch 45/50\n",
      "37/37 [==============================] - 4s 107ms/step - loss: 0.0000e+00 - accuracy: 1.0000 - val_loss: 0.9179 - val_accuracy: 0.9633\n",
      "Epoch 46/50\n",
      "37/37 [==============================] - 4s 106ms/step - loss: 0.0000e+00 - accuracy: 1.0000 - val_loss: 0.9188 - val_accuracy: 0.9633\n",
      "Epoch 47/50\n",
      "37/37 [==============================] - 4s 105ms/step - loss: 0.0000e+00 - accuracy: 1.0000 - val_loss: 0.9207 - val_accuracy: 0.9633\n",
      "Epoch 48/50\n",
      "37/37 [==============================] - 4s 106ms/step - loss: 0.0000e+00 - accuracy: 1.0000 - val_loss: 0.9212 - val_accuracy: 0.9633\n",
      "Epoch 49/50\n",
      "37/37 [==============================] - 4s 105ms/step - loss: 0.0000e+00 - accuracy: 1.0000 - val_loss: 0.9229 - val_accuracy: 0.9633\n",
      "Epoch 50/50\n",
      "37/37 [==============================] - 4s 104ms/step - loss: 0.0000e+00 - accuracy: 1.0000 - val_loss: 0.9238 - val_accuracy: 0.9633\n"
     ]
    }
   ],
   "source": [
    "#model.fit(samples_cnn, dataset.labels, epochs=epochs, batch_size=batch_size, verbose=1)\n",
    "history = model.fit(X_train, y_train, validation_split=0.33, epochs=50,verbose=1, class_weight=my_class_weight)#, batch_size=250, verbose=1)"
   ]
  },
  {
   "cell_type": "markdown",
   "metadata": {},
   "source": [
    "## Save Model weights and model as a whole"
   ]
  },
  {
   "cell_type": "code",
   "execution_count": 107,
   "metadata": {},
   "outputs": [
    {
     "name": "stdout",
     "output_type": "stream",
     "text": [
      "WARNING:tensorflow:From C:\\Users\\ayub_\\anaconda3\\envs\\myGPU\\lib\\site-packages\\tensorflow\\python\\ops\\resource_variable_ops.py:1817: calling BaseResourceVariable.__init__ (from tensorflow.python.ops.resource_variable_ops) with constraint is deprecated and will be removed in a future version.\n",
      "Instructions for updating:\n",
      "If using Keras pass *_constraint arguments to layers.\n",
      "INFO:tensorflow:Assets written to: my_deep_CNN_model\\assets\n"
     ]
    }
   ],
   "source": [
    "# always save your weights after training or during training\n",
    "model.save_weights('deep_CNN_model_weights.h5')  \n",
    "model.save('my_deep_CNN_model')"
   ]
  },
  {
   "cell_type": "code",
   "execution_count": 108,
   "metadata": {},
   "outputs": [
    {
     "name": "stdout",
     "output_type": "stream",
     "text": [
      "<tensorflow.python.keras.callbacks.History object at 0x0000029413B8D648>\n"
     ]
    }
   ],
   "source": [
    "print(history)"
   ]
  },
  {
   "cell_type": "code",
   "execution_count": 109,
   "metadata": {},
   "outputs": [
    {
     "name": "stdout",
     "output_type": "stream",
     "text": [
      "37/37 [==============================] - 1s 25ms/step - loss: 0.7072 - accuracy: 0.9628\n",
      "Test accuracy: 0.96\n"
     ]
    }
   ],
   "source": [
    "loss, accuracy = model.evaluate(X_test, y_test)\n",
    "print('Test accuracy: %.2f' % (accuracy))"
   ]
  },
  {
   "cell_type": "code",
   "execution_count": 110,
   "metadata": {},
   "outputs": [],
   "source": [
    "y_pred = model.predict(X_test)"
   ]
  },
  {
   "cell_type": "markdown",
   "metadata": {},
   "source": [
    "#### Convert class attribute back to its origional form, 0,1"
   ]
  },
  {
   "cell_type": "code",
   "execution_count": 111,
   "metadata": {},
   "outputs": [
    {
     "name": "stdout",
     "output_type": "stream",
     "text": [
      "[0 0 0 0 1 0 1 0 0 0 1 0 0 0 0 0 0 0 0 0 1 0 0 0 0]\n",
      "[0 0 0 0 1 0 1 0 0 0 1 0 0 0 0 0 0 0 0 0 1 0 0 0 0]\n"
     ]
    }
   ],
   "source": [
    "y_actual = np.argmax(y_test,axis=1)\n",
    "print(y_actual[0:25])\n",
    "y_pred = np.argmax(y_pred,axis=1)\n",
    "print(y_pred[0:25])"
   ]
  },
  {
   "cell_type": "markdown",
   "metadata": {},
   "source": [
    "#### Classification Report"
   ]
  },
  {
   "cell_type": "code",
   "execution_count": 112,
   "metadata": {},
   "outputs": [
    {
     "name": "stdout",
     "output_type": "stream",
     "text": [
      "[0 0 0 0 1]\n",
      "              precision    recall  f1-score   support\n",
      "\n",
      "           0       0.98      0.98      0.98      1027\n",
      "           1       0.84      0.82      0.83       129\n",
      "\n",
      "    accuracy                           0.96      1156\n",
      "   macro avg       0.91      0.90      0.91      1156\n",
      "weighted avg       0.96      0.96      0.96      1156\n",
      "\n",
      "[[1007   20]\n",
      " [  23  106]]\n",
      "0.96280276816609\n"
     ]
    }
   ],
   "source": [
    "#y_actual = np.argmax(y_test,axis=1)\n",
    "print(y_actual[0:5])\n",
    "#y_pred = np.argmax(y_pred,axis=1)\n",
    "#Accuracy of the predicted values\n",
    "from sklearn.metrics import classification_report,confusion_matrix, accuracy_score\n",
    "print(classification_report(y_actual,y_pred))\n",
    "print(confusion_matrix(y_actual,y_pred))\n",
    "print(accuracy_score(y_actual,y_pred))"
   ]
  },
  {
   "cell_type": "markdown",
   "metadata": {},
   "source": [
    "#### Find out the images wrongly classified. we will find out their indexes by comparing actual and predicte labels.\n",
    "\n",
    "The indexs will be used to print the images in the later stage."
   ]
  },
  {
   "cell_type": "code",
   "execution_count": 113,
   "metadata": {},
   "outputs": [],
   "source": [
    "j = 0\n",
    "# Output list intialisation \n",
    "wrongClassiified_indexes = []    \n",
    "# Using iteration to find \n",
    "for i in y_actual: \n",
    "    if i != y_pred[j]: \n",
    "        wrongClassiified_indexes.append(j) \n",
    "    j = j + 1"
   ]
  },
  {
   "cell_type": "code",
   "execution_count": 114,
   "metadata": {},
   "outputs": [
    {
     "name": "stdout",
     "output_type": "stream",
     "text": [
      "[39, 63, 70, 77, 84, 86, 115, 117, 118, 267, 291, 315, 323, 383, 384, 415, 438, 503, 511, 543, 553, 573, 594, 607, 617, 630, 659, 670, 689, 732, 775, 819, 826, 885, 899, 941, 945, 951, 961, 991, 1094, 1129, 1144]\n",
      "Total Wrong Imgaes: 43\n"
     ]
    }
   ],
   "source": [
    "print(wrongClassiified_indexes)\n",
    "print(\"Total Wrong Imgaes: \" + str(len(wrongClassiified_indexes)))"
   ]
  },
  {
   "cell_type": "code",
   "execution_count": 115,
   "metadata": {},
   "outputs": [
    {
     "name": "stdout",
     "output_type": "stream",
     "text": [
      "Prd: 1Act:0Layer: b3_549\n",
      "Prd: 0Act:1Layer: b1_379_2mm\n",
      "Prd: 1Act:0Layer: b2_778\n",
      "Prd: 0Act:1Layer: b2_547_08mm\n",
      "Prd: 0Act:1Layer: b2_558_08mm\n",
      "Prd: 1Act:0Layer: b1_1239\n",
      "Prd: 1Act:0Layer: b2_483\n",
      "Prd: 0Act:1Layer: b1_945_05mm\n",
      "Prd: 0Act:1Layer: b3_526_08mm\n",
      "Prd: 1Act:0Layer: b1_587\n",
      "Prd: 1Act:0Layer: b3_617\n",
      "Prd: 0Act:1Layer: b1_1034_2mm\n",
      "Prd: 1Act:0Layer: b3_893\n",
      "Prd: 0Act:1Layer: b1_858_1mm\n",
      "Prd: 0Act:1Layer: b1_861_1mm\n",
      "Prd: 1Act:0Layer: b1_1084\n",
      "Prd: 0Act:1Layer: b3_454_1mm\n",
      "Prd: 0Act:1Layer: b3_428_1mm\n",
      "Prd: 1Act:0Layer: b3_593\n",
      "Prd: 0Act:1Layer: b1_1066_2mm\n",
      "Prd: 1Act:0Layer: b1_965\n",
      "Prd: 1Act:0Layer: b3_331\n",
      "Prd: 1Act:0Layer: b3_348\n",
      "Prd: 1Act:0Layer: b3_1113\n",
      "Prd: 1Act:0Layer: b1_550\n",
      "Prd: 0Act:1Layer: b3_823_02mm\n",
      "Prd: 1Act:0Layer: b2_1148\n",
      "Prd: 0Act:1Layer: b1_859_1mm\n",
      "Prd: 0Act:1Layer: b2_443_1mm\n",
      "Prd: 0Act:1Layer: b3_725_04mm\n",
      "Prd: 0Act:1Layer: b3_726_04mm\n",
      "Prd: 0Act:1Layer: b1_356_2mm\n",
      "Prd: 1Act:0Layer: b3_344\n",
      "Prd: 1Act:0Layer: b3_337\n",
      "Prd: 0Act:1Layer: b1_856_1mm\n",
      "Prd: 0Act:1Layer: b2_739_04mm\n",
      "Prd: 0Act:1Layer: b3_624_05mm\n",
      "Prd: 0Act:1Layer: b1_944_05mm\n",
      "Prd: 1Act:0Layer: b2_579\n",
      "Prd: 1Act:0Layer: b3_985\n",
      "Prd: 0Act:1Layer: b1_1052_2mm\n",
      "Prd: 1Act:0Layer: b3_677\n",
      "Prd: 0Act:1Layer: b1_841_1mm\n"
     ]
    }
   ],
   "source": [
    "for i in range(0, len(wrongClassiified_indexes)):\n",
    "    index = wrongClassiified_indexes[i]\n",
    "    print(\"Prd: \" + str(y_pred[index]) + \"Act:\" + str(y_actual[index]) + \"Layer: \" + str(layer_nums[y_indeces[index]]))"
   ]
  },
  {
   "cell_type": "markdown",
   "metadata": {},
   "source": [
    "### Rescalling back to three dimentions for visualization"
   ]
  },
  {
   "cell_type": "code",
   "execution_count": 116,
   "metadata": {},
   "outputs": [],
   "source": [
    "# reshape to be [samples][width][height][channels]\n",
    "X_train = X_train.reshape((X_train.shape[0], 190, 150))\n",
    "X_test = X_test.reshape((X_test.shape[0], 190, 150))"
   ]
  },
  {
   "cell_type": "code",
   "execution_count": 117,
   "metadata": {},
   "outputs": [
    {
     "data": {
      "image/png": "[encoded data removed]",
      "text/plain": [
       "<Figure size 1440x720 with 16 Axes>"
      ]
     },
     "metadata": {},
     "output_type": "display_data"
    }
   ],
   "source": [
    "\n",
    "n = 16\n",
    "data = []\n",
    "titles = []\n",
    "for i in range(0,n):\n",
    "    index = wrongClassiified_indexes[i]\n",
    "    titles.append(\"Prd: \" + str(y_pred[index]) + \"Act:\" + str(y_actual[index]) + \"Layer: \" + str(layer_nums[y_indeces[index]]))\n",
    "    img = X_test[index]#:,:,:]\n",
    "    data.append(img)\n",
    "test_images = np.array(data)\n",
    "\n",
    "plt.figure(figsize=(20,10))\n",
    "for i in range(n):\n",
    "    plt.subplot(n/4,4,i+1),plt.imshow(test_images[i],'gray')\n",
    "    plt.title(titles[i])\n",
    "    plt.xticks([]),plt.yticks([])\n",
    "\n",
    "plt.show()"
   ]
  },
  {
   "cell_type": "code",
   "execution_count": 118,
   "metadata": {},
   "outputs": [
    {
     "data": {
      "image/png": "[encoded data removed]",
      "text/plain": [
       "<Figure size 432x288 with 1 Axes>"
      ]
     },
     "metadata": {
      "needs_background": "light"
     },
     "output_type": "display_data"
    },
    {
     "name": "stdout",
     "output_type": "stream",
     "text": [
      "Predict Label:1\n",
      "Actual Label:1\n"
     ]
    }
   ],
   "source": [
    "plt.imshow(X_test[4])\n",
    "plt.show()\n",
    "print(\"Predict Label:\" + str(y_pred[4]))\n",
    "print(\"Actual Label:\" + str(y_actual[4]))"
   ]
  },
  {
   "cell_type": "code",
   "execution_count": 119,
   "metadata": {},
   "outputs": [
    {
     "name": "stdout",
     "output_type": "stream",
     "text": [
      "dict_keys(['loss', 'accuracy', 'val_loss', 'val_accuracy'])\n"
     ]
    },
    {
     "data": {
      "image/png": "[encoded data removed]",
      "text/plain": [
       "<Figure size 432x288 with 1 Axes>"
      ]
     },
     "metadata": {
      "needs_background": "light"
     },
     "output_type": "display_data"
    },
    {
     "data": {
      "image/png": "[encoded data removed]",
      "text/plain": [
       "<Figure size 432x288 with 1 Axes>"
      ]
     },
     "metadata": {
      "needs_background": "light"
     },
     "output_type": "display_data"
    }
   ],
   "source": [
    "############### printing accuracy and loss between the epoches #########\n",
    "import matplotlib.pyplot as plt\n",
    "print(history.history.keys())\n",
    "# summarize history for accuracy\n",
    "plt.plot(history.history['accuracy'], label=\"Training\")\n",
    "plt.plot(history.history['val_accuracy'], label =\"Validation\")\n",
    "plt.title('model accuracy')\n",
    "plt.ylabel('accuracy')\n",
    "plt.xlabel('epoch')\n",
    "plt.legend()\n",
    "#plt.legend(['train', 'test'], loc='upper left')\n",
    "plt.show()\n",
    "# summarize history for loss\n",
    "plt.plot(history.history['loss'], label=\"Training\")\n",
    "plt.plot(history.history['val_loss'], label =\"Validation\")\n",
    "plt.title('model loss')\n",
    "plt.ylabel('loss')\n",
    "plt.xlabel('epoch')\n",
    "plt.legend()\n",
    "#plt.legend(['train', 'test'], loc='upper left')\n",
    "plt.show()"
   ]
  },
  {
   "cell_type": "markdown",
   "metadata": {},
   "source": [
    "## Model Evaluation on pores size"
   ]
  },
  {
   "cell_type": "code",
   "execution_count": 120,
   "metadata": {},
   "outputs": [],
   "source": [
    "test_set_2mm_images = []\n",
    "test_set_1mm_images = []\n",
    "test_set_0_8mm_images = []\n",
    "test_set_0_5mm_images = []\n",
    "test_set_0_4mm_images = []\n",
    "test_set_0_2mm_images = []"
   ]
  },
  {
   "cell_type": "code",
   "execution_count": 121,
   "metadata": {},
   "outputs": [],
   "source": [
    "files, labels = load_all_image_path(\"./Crop_images/B1\")\n",
    "for f1, lab in zip(files, labels):\n",
    "    #print(lab[-8:-4])\n",
    "    pore_size = lab[-8:-4]\n",
    "    f1 = cv2.imread(f1)\n",
    "    if(pore_size == \"_2mm\"):\n",
    "        test_set_2mm_images.append(f1)\n",
    "    elif(pore_size == \"_1mm\"):\n",
    "        test_set_1mm_images.append(f1)\n",
    "    elif(pore_size == \"08mm\"):\n",
    "        test_set_0_8mm_images.append(f1)\n",
    "    elif(pore_size == \"05mm\"):\n",
    "        test_set_0_5mm_images.append(f1)\n",
    "    elif(pore_size == \"04mm\"):\n",
    "        test_set_0_4mm_images.append(f1)\n",
    "    elif(pore_size == \"02mm\"):\n",
    "        test_set_0_2mm_images.append(f1)\n",
    "        \n",
    "files, labels = load_all_image_path(\"./Crop_images/B2\")\n",
    "for f1, lab in zip(files, labels):\n",
    "    #print(lab[-8:-4])\n",
    "    pore_size = lab[-8:-4]\n",
    "    f1 = cv2.imread(f1)\n",
    "    if(pore_size == \"_2mm\"):\n",
    "        test_set_2mm_images.append(f1)\n",
    "    elif(pore_size == \"_1mm\"):\n",
    "        test_set_1mm_images.append(f1)\n",
    "    elif(pore_size == \"08mm\"):\n",
    "        test_set_0_8mm_images.append(f1)\n",
    "    elif(pore_size == \"05mm\"):\n",
    "        test_set_0_5mm_images.append(f1)\n",
    "    elif(pore_size == \"04mm\"):\n",
    "        test_set_0_4mm_images.append(f1)\n",
    "    elif(pore_size == \"02mm\"):\n",
    "        test_set_0_2mm_images.append(f1)\n",
    "        \n",
    "files, labels = load_all_image_path(\"./Crop_images/B3\")\n",
    "for f1, lab in zip(files, labels):\n",
    "    #print(lab[-8:-4])\n",
    "    pore_size = lab[-8:-4]\n",
    "    f1 = cv2.imread(f1)\n",
    "    if(pore_size == \"_2mm\"):\n",
    "        test_set_2mm_images.append(f1)\n",
    "    elif(pore_size == \"_1mm\"):\n",
    "        test_set_1mm_images.append(f1)\n",
    "    elif(pore_size == \"08mm\"):\n",
    "        test_set_0_8mm_images.append(f1)\n",
    "    elif(pore_size == \"05mm\"):\n",
    "        test_set_0_5mm_images.append(f1)\n",
    "    elif(pore_size == \"04mm\"):\n",
    "        test_set_0_4mm_images.append(f1)\n",
    "    elif(pore_size == \"02mm\"):\n",
    "        test_set_0_2mm_images.append(f1)\n",
    "        \n",
    "        \n",
    "test_set_2mm_images = np.array(test_set_2mm_images)\n",
    "test_set_1mm_images = np.array(test_set_1mm_images)\n",
    "test_set_0_8mm_images = np.array(test_set_0_8mm_images)\n",
    "test_set_0_5mm_images = np.array(test_set_0_5mm_images)\n",
    "test_set_0_4mm_images = np.array(test_set_0_4mm_images)\n",
    "test_set_0_2mm_images = np.array(test_set_0_2mm_images)"
   ]
  },
  {
   "cell_type": "code",
   "execution_count": 122,
   "metadata": {},
   "outputs": [
    {
     "name": "stdout",
     "output_type": "stream",
     "text": [
      "(179, 190, 150, 3)\n",
      "(67, 190, 150, 3)\n",
      "(28, 190, 150, 3)\n",
      "(20, 190, 150, 3)\n",
      "(14, 190, 150, 3)\n",
      "(3, 190, 150, 3)\n"
     ]
    }
   ],
   "source": [
    "print(test_set_2mm_images.shape)\n",
    "print(test_set_1mm_images.shape)\n",
    "print(test_set_0_8mm_images.shape)\n",
    "print(test_set_0_5mm_images.shape)\n",
    "print(test_set_0_4mm_images.shape)\n",
    "print(test_set_0_2mm_images.shape)"
   ]
  },
  {
   "cell_type": "code",
   "execution_count": 123,
   "metadata": {},
   "outputs": [
    {
     "name": "stdout",
     "output_type": "stream",
     "text": [
      "X Shape after Ostu Binarisation: (179, 190, 150)\n",
      "X Shape after reshaping: (179, 190, 150, 1)\n"
     ]
    }
   ],
   "source": [
    "test_set_2mm_images = ostu_thd(test_set_2mm_images)\n",
    "print(\"X Shape after Ostu Binarisation: \" + str(test_set_2mm_images.shape))\n",
    "test_set_2mm_images = test_set_2mm_images.reshape((test_set_2mm_images.shape[0], 190, 150, 1))\n",
    "print(\"X Shape after reshaping: \" + str(test_set_2mm_images.shape))"
   ]
  },
  {
   "cell_type": "code",
   "execution_count": 124,
   "metadata": {},
   "outputs": [],
   "source": [
    "y_pred = model.predict(test_set_2mm_images)"
   ]
  },
  {
   "cell_type": "code",
   "execution_count": 125,
   "metadata": {},
   "outputs": [
    {
     "name": "stdout",
     "output_type": "stream",
     "text": [
      "[1 1 1 1 1 1 1 1 1 1 1 1 1 1 1 0 1 1 1 1 1 1 1 1 1 1 1 1 1 1 1 1 0 1 1 1 1\n",
      " 1 1 1 1 1 1 1 1 1 0 1 1 1 1 1 1 1 1 1 1 1 1 1 1 1 1 1 1 1 1 1 1 1 1 1 1 1\n",
      " 1 1 1 1 1 1 1 1 1 1 1 1 1 1 1 1 1 1 1 0 1 1 1 1 1 1 1 1 1 1 1 1 1 1 1 1 1\n",
      " 0 1 1 1 0 1 1 1 1 1 1 1 1 1 1 1 1 1 1 1 1 1 1 1 1 1 1 1 1 1 1 1 1 1 1 1 1\n",
      " 1 1 1 1 1 1 1 1 1 0 1 1 1 1 1 1 1 1 1 1 1 1 1 1 1 1 1 1 1 1 1]\n",
      "[0 1] [  7 172]\n"
     ]
    }
   ],
   "source": [
    "y_pred = np.argmax(y_pred,axis=1)\n",
    "print(y_pred)\n",
    "(unique, counts) = np.unique(y_pred, return_counts=True)\n",
    "print(unique, counts)"
   ]
  },
  {
   "cell_type": "markdown",
   "metadata": {},
   "source": [
    "### 1mm"
   ]
  },
  {
   "cell_type": "code",
   "execution_count": 126,
   "metadata": {},
   "outputs": [
    {
     "name": "stdout",
     "output_type": "stream",
     "text": [
      "X Shape after Ostu Binarisation: (67, 190, 150)\n",
      "X Shape after reshaping: (67, 190, 150, 1)\n",
      "[1 1 1 1 1 1 1 1 0 0 1 1 0 0 0 1 0 0 1 1 0 1 1 1 1 0 1 1 1 1 1 1 1 1 1 1 1\n",
      " 1 0 1 1 1 1 1 0 1 1 1 1 1 1 1 1 1 1 1 1 1 0 1 1 1 1 1 1 0 1]\n",
      "[0 1] [13 54]\n"
     ]
    }
   ],
   "source": [
    "test_set_1mm_images = ostu_thd(test_set_1mm_images)\n",
    "print(\"X Shape after Ostu Binarisation: \" + str(test_set_1mm_images.shape))\n",
    "test_set_1mm_images = test_set_1mm_images.reshape((test_set_1mm_images.shape[0], 190, 150, 1))\n",
    "print(\"X Shape after reshaping: \" + str(test_set_1mm_images.shape))\n",
    "\n",
    "y_pred = model.predict(test_set_1mm_images)\n",
    "\n",
    "y_pred = np.argmax(y_pred,axis=1)\n",
    "print(y_pred)\n",
    "(unique, counts) = np.unique(y_pred, return_counts=True)\n",
    "print(unique, counts)\n"
   ]
  },
  {
   "cell_type": "markdown",
   "metadata": {},
   "source": [
    "### 0.8mm"
   ]
  },
  {
   "cell_type": "code",
   "execution_count": 127,
   "metadata": {},
   "outputs": [
    {
     "name": "stdout",
     "output_type": "stream",
     "text": [
      "X Shape after Ostu Binarisation: (28, 190, 150)\n",
      "X Shape after reshaping: (28, 190, 150, 1)\n",
      "[1 1 0 1 1 1 0 1 0 0 1 1 1 1 0 1 1 1 1 0 1 1 1 1 1 1 1 1]\n",
      "[0 1] [ 6 22]\n"
     ]
    }
   ],
   "source": [
    "test_set_0_8mm_images = ostu_thd(test_set_0_8mm_images)\n",
    "print(\"X Shape after Ostu Binarisation: \" + str(test_set_0_8mm_images.shape))\n",
    "test_set_0_8mm_images = test_set_0_8mm_images.reshape((test_set_0_8mm_images.shape[0], 190, 150, 1))\n",
    "print(\"X Shape after reshaping: \" + str(test_set_0_8mm_images.shape))\n",
    "\n",
    "y_pred = model.predict(test_set_0_8mm_images)\n",
    "\n",
    "y_pred = np.argmax(y_pred,axis=1)\n",
    "print(y_pred)\n",
    "(unique, counts) = np.unique(y_pred, return_counts=True)\n",
    "print(unique, counts)"
   ]
  },
  {
   "cell_type": "markdown",
   "metadata": {},
   "source": [
    "### 0.5mm"
   ]
  },
  {
   "cell_type": "code",
   "execution_count": 128,
   "metadata": {},
   "outputs": [
    {
     "name": "stdout",
     "output_type": "stream",
     "text": [
      "X Shape after Ostu Binarisation: (20, 190, 150)\n",
      "X Shape after reshaping: (20, 190, 150, 1)\n",
      "[1 0 1 0 0 1 1 1 1 1 1 1 1 1 1 0 1 1 1 1]\n",
      "[0 1] [ 4 16]\n"
     ]
    }
   ],
   "source": [
    "test_set_0_5mm_images = ostu_thd(test_set_0_5mm_images)\n",
    "print(\"X Shape after Ostu Binarisation: \" + str(test_set_0_5mm_images.shape))\n",
    "test_set_0_5mm_images = test_set_0_5mm_images.reshape((test_set_0_5mm_images.shape[0], 190, 150, 1))\n",
    "print(\"X Shape after reshaping: \" + str(test_set_0_5mm_images.shape))\n",
    "\n",
    "y_pred = model.predict(test_set_0_5mm_images)\n",
    "\n",
    "y_pred = np.argmax(y_pred,axis=1)\n",
    "print(y_pred)\n",
    "(unique, counts) = np.unique(y_pred, return_counts=True)\n",
    "print(unique, counts)"
   ]
  },
  {
   "cell_type": "markdown",
   "metadata": {},
   "source": [
    "### 0.4mm"
   ]
  },
  {
   "cell_type": "code",
   "execution_count": 129,
   "metadata": {},
   "outputs": [
    {
     "name": "stdout",
     "output_type": "stream",
     "text": [
      "X Shape after Ostu Binarisation: (14, 190, 150)\n",
      "X Shape after reshaping: (14, 190, 150, 1)\n",
      "[0 0 1 1 1 1 0 1 0 0 1 1 1 1]\n",
      "[0 1] [5 9]\n"
     ]
    }
   ],
   "source": [
    "test_set_0_4mm_images = ostu_thd(test_set_0_4mm_images)\n",
    "print(\"X Shape after Ostu Binarisation: \" + str(test_set_0_4mm_images.shape))\n",
    "test_set_0_4mm_images = test_set_0_4mm_images.reshape((test_set_0_4mm_images.shape[0], 190, 150, 1))\n",
    "print(\"X Shape after reshaping: \" + str(test_set_0_4mm_images.shape))\n",
    "\n",
    "y_pred = model.predict(test_set_0_4mm_images)\n",
    "\n",
    "y_pred = np.argmax(y_pred,axis=1)\n",
    "print(y_pred)\n",
    "(unique, counts) = np.unique(y_pred, return_counts=True)\n",
    "print(unique, counts)"
   ]
  },
  {
   "cell_type": "markdown",
   "metadata": {},
   "source": [
    "### 0.2mm"
   ]
  },
  {
   "cell_type": "code",
   "execution_count": 130,
   "metadata": {},
   "outputs": [
    {
     "name": "stdout",
     "output_type": "stream",
     "text": [
      "X Shape after Ostu Binarisation: (3, 190, 150)\n",
      "X Shape after reshaping: (3, 190, 150, 1)\n",
      "[0 1 1]\n",
      "[0 1] [1 2]\n"
     ]
    }
   ],
   "source": [
    "test_set_0_2mm_images = ostu_thd(test_set_0_2mm_images)\n",
    "print(\"X Shape after Ostu Binarisation: \" + str(test_set_0_2mm_images.shape))\n",
    "test_set_0_2mm_images = test_set_0_2mm_images.reshape((test_set_0_2mm_images.shape[0], 190, 150, 1))\n",
    "print(\"X Shape after reshaping: \" + str(test_set_0_2mm_images.shape))\n",
    "\n",
    "y_pred = model.predict(test_set_0_2mm_images)\n",
    "\n",
    "y_pred = np.argmax(y_pred,axis=1)\n",
    "print(y_pred)\n",
    "(unique, counts) = np.unique(y_pred, return_counts=True)\n",
    "print(unique, counts)"
   ]
  },
  {
   "cell_type": "code",
   "execution_count": null,
   "metadata": {},
   "outputs": [],
   "source": []
  }
 ],
 "metadata": {
  "kernelspec": {
   "display_name": "ve_grow_K",
   "language": "python",
   "name": "ve_grow_k"
  },
  "language_info": {
   "codemirror_mode": {
    "name": "ipython",
    "version": 3
   },
   "file_extension": ".py",
   "mimetype": "text/x-python",
   "name": "python",
   "nbconvert_exporter": "python",
   "pygments_lexer": "ipython3",
   "version": "3.9.0"
  }
 },
 "nbformat": 4,
 "nbformat_minor": 2
}
