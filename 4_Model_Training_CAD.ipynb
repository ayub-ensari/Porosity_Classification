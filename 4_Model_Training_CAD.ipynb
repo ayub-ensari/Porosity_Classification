{
 "cells": [
  {
   "cell_type": "markdown",
   "metadata": {},
   "source": [
    "# Porosity image classification via CAD labelling "
   ]
  },
  {
   "cell_type": "code",
   "execution_count": 1,
   "metadata": {},
   "outputs": [],
   "source": [
    "import cv2\n",
    "import numpy as np\n",
    "import matplotlib.pyplot as plt\n",
    "from matplotlib.pyplot import figure\n",
    "from os import walk\n",
    "import time\n",
    "import regex as re\n",
    "import os\n",
    "import glob\n",
    "import tensorflow as tf\n",
    "import warnings\n",
    "import matplotlib\n",
    "import h5py\n",
    "from sklearn.model_selection import train_test_split\n",
    "from sklearn.metrics import classification_report,confusion_matrix, accuracy_score"
   ]
  },
  {
   "cell_type": "code",
   "execution_count": 2,
   "metadata": {},
   "outputs": [
    {
     "name": "stderr",
     "output_type": "stream",
     "text": [
      "[NbConvertApp] Converting notebook 4_Model_Training_CAD.ipynb to script\n",
      "[NbConvertApp] Writing 19345 bytes to reqs\\4_Model_Training_CAD.py\n"
     ]
    },
    {
     "name": "stdout",
     "output_type": "stream",
     "text": [
      "h5py==3.7.0\n",
      "matplotlib==3.5.3\n",
      "MedPy==0.4.0\n",
      "numpy==1.23.2\n",
      "opencv_python==4.6.0.66\n",
      "pandas==1.4.3\n",
      "regex==2022.8.17\n",
      "scikit_image==0.19.3\n",
      "scikit_learn==1.1.2\n",
      "skimage==0.0\n",
      "tensorflow==2.9.1\n",
      "tensorflow_gpu==2.7.0\n"
     ]
    },
    {
     "name": "stderr",
     "output_type": "stream",
     "text": [
      "INFO: Successfully output requirements\n"
     ]
    }
   ],
   "source": [
    "!jupyter nbconvert --output-dir=\"./reqs\" --to script 4_Model_Training_CAD\n",
    "!cd reqs\n",
    "!pipreqs --print"
   ]
  },
  {
   "cell_type": "markdown",
   "metadata": {},
   "source": [
    "#### GPU configuration"
   ]
  },
  {
   "cell_type": "code",
   "execution_count": 3,
   "metadata": {},
   "outputs": [
    {
     "name": "stdout",
     "output_type": "stream",
     "text": [
      "Default GPU device: /device:GPU:0\n",
      "Num Devices Available:  2\n",
      "Num CPUs Available:  1\n",
      "Num GPUs Available:  1\n",
      "[name: \"/device:CPU:0\"\n",
      "device_type: \"CPU\"\n",
      "memory_limit: 268435456\n",
      "locality {\n",
      "}\n",
      "incarnation: 17070427277799224781\n",
      ", name: \"/device:GPU:0\"\n",
      "device_type: \"GPU\"\n",
      "memory_limit: 2907098318\n",
      "locality {\n",
      "  bus_id: 1\n",
      "  links {\n",
      "  }\n",
      "}\n",
      "incarnation: 16396528719889644642\n",
      "physical_device_desc: \"device: 0, name: NVIDIA GeForce GTX 1050 Ti, pci bus id: 0000:01:00.0, compute capability: 6.1\"\n",
      "]\n"
     ]
    }
   ],
   "source": [
    "import warnings\n",
    "\n",
    "if not tf.test.gpu_device_name():\n",
    "    warnings.warn(\"No GPU found\")\n",
    "else:\n",
    "    print(\"Default GPU device: {}\".format(tf.test.gpu_device_name()))\n",
    "    \n",
    "print(\"Num Devices Available: \", len(tf.config.experimental.list_physical_devices()))\n",
    "print(\"Num CPUs Available: \", len(tf.config.experimental.list_physical_devices('CPU')))\n",
    "print(\"Num GPUs Available: \", len(tf.config.experimental.list_physical_devices('GPU')))\n",
    "from tensorflow.python.client import device_lib\n",
    "print(device_lib.list_local_devices())"
   ]
  },
  {
   "cell_type": "markdown",
   "metadata": {},
   "source": [
    "# 1. Data Acqusition"
   ]
  },
  {
   "cell_type": "code",
   "execution_count": 4,
   "metadata": {},
   "outputs": [],
   "source": [
    "def load_all_image_path(img_dir):\n",
    "    \n",
    "    #img_dir = \"./Build2\" # Enter Directory of all images\n",
    "    img_labels = []\n",
    "    for(_, _, filenames) in walk(img_dir):\n",
    "        img_labels.extend(filenames)\n",
    "        break\n",
    "    data_path = os.path.join(img_dir,'*g')\n",
    "    files = glob.glob(data_path)\n",
    "    return files, img_labels\n",
    "    "
   ]
  },
  {
   "cell_type": "markdown",
   "metadata": {},
   "source": [
    "### Data Labels\n",
    "__Layers with porosity__\n",
    "> Followig are the index numbers of porosity images from three cylinders, B1, B2 & B3. The labels were based on the CAD file\n",
    "information."
   ]
  },
  {
   "cell_type": "code",
   "execution_count": 5,
   "metadata": {},
   "outputs": [],
   "source": [
    "b1_prosity_index = list(range(311,380)) + list(range(537, 554)) + list(range(628, 663)) + list(range(832, 862)) + list(range(936, 937)) + list(range(940, 953)) + list(range(1011, 1078)) + list(range(1145, 1152))\n",
    "b2_prosity_index = list(range(311,380)) + list(range(428, 463)) + list(range(531, 560)) + list(range(640, 654)) + list(range(737, 753))\n",
    "b3_prosity_index = list(range(420,456)) + list(range(519, 546)) + list(range(619, 634)) + list(range(719, 736)) + list(range(819, 827)) + list(range(919, 923))"
   ]
  },
  {
   "cell_type": "markdown",
   "metadata": {},
   "source": [
    "### Image selection and Cropping\n",
    "\n",
    "> The following function receives a chunk of image's path and their corresponding labels. Not all the images in Build2 are relevant to our cylinders. Out of total 2922 images, only 963 images relevant to our 3d objects. Three cylinders names as B1, B2, B3 were printed. Images from 243 to 1243 are related to B1 and B2 cylinders. Whereas, B3 cylinder related images are ranges from 218 to 1218. \n",
    "<br><br><br>\n",
    "Firstly, the images were read into a numpy array. The image dimensions are __height = 2600 and Width = 1420__. Each image is then cropped into three small sections. __Height=1250-1440 and width=650-1100__ is firstly croped from the whole powder bed image.  <br> <br>\n",
    "The cropped image is further is divided into three parts, each containg the image of a cylinder[B1,B2,B3]. The coordinates of __B1=[h:0-190, w:0-150]__, __B2 = [h:0-190, w:150-300]__ , __B3 = [h:0-190, w:300-450]__. The three images were then stored in different folders on the hard-drive.  \n",
    "> The __crop_save_images__ function read images from hard drive and crop out B1, B2, and B3 cylinders into individual images. It also labels the images. The label consisted of \n",
    "__label = Porosity_flag +  cylinder name + layer number__ "
   ]
  },
  {
   "cell_type": "code",
   "execution_count": 6,
   "metadata": {},
   "outputs": [],
   "source": [
    "def crop_save_images(files, directory, labels):\n",
    "    b1_prosity_index = list(range(311,380)) + list(range(537, 554)) + list(range(628, 663)) + list(range(832, 862)) + list(range(936, 937)) + list(range(940, 953)) + list(range(1011, 1078)) + list(range(1145, 1152))\n",
    "    b2_prosity_index = list(range(311,380)) + list(range(428, 463)) + list(range(531, 560)) + list(range(640, 654)) + list(range(737, 753))\n",
    "    b3_prosity_index = list(range(420,456)) + list(range(519, 546)) + list(range(619, 634)) + list(range(719, 736)) + list(range(819, 827)) + list(range(919, 923))\n",
    "    \n",
    "    for f1,lab in zip(files,labels):\n",
    "        #F1 = File path.\n",
    "        #lab = Image label\n",
    "        #print(\"F1: \" + str(f1))\n",
    "        #print(\"Lab: \" +  str(lab))\n",
    "        ########## read image\n",
    "        orig_img = cv2.imread(f1)\n",
    "\n",
    "        ########### crop image\n",
    "        img = orig_img[1250:1440, 650:1100]\n",
    "        img1 = img[0:190,0:150]\n",
    "        img2 = img[0:190,150:300]\n",
    "        img3 = img[0:190,300:450]\n",
    "\n",
    "        ########### Label Image\n",
    "        \n",
    "        tt = lab[:-4].split('_')\n",
    "        #tt = layer number\n",
    "        #print(tt[3])\n",
    "        layer_no = int(tt[3])\n",
    "        \n",
    "        if (layer_no in b1_prosity_index):\n",
    "            img_name_b1 = \"1_B1_Layer_\"+str(layer_no)+\".jpg\"\n",
    "            #print(layer_no)\n",
    "            #print(\"True\")\n",
    "        else:\n",
    "            img_name_b1 = \"0_B1_Layer_\"+str(layer_no)+\".jpg\"\n",
    "            #print(\"False\")\n",
    "            \n",
    "        if (layer_no in b2_prosity_index):\n",
    "            img_name_b2 = \"1_B2_Layer_\"+str(layer_no)+\".jpg\"\n",
    "            #print(layer_no)\n",
    "            #print(\"True\")\n",
    "        else:\n",
    "            img_name_b2 = \"0_B2_Layer_\"+str(layer_no)+\".jpg\"\n",
    "            #print(\"False\")\n",
    "            \n",
    "        if (layer_no in b3_prosity_index):\n",
    "            img_name_b3 = \"1_B3_Layer_\"+str(layer_no)+\".jpg\"\n",
    "            #print(layer_no)\n",
    "            #print(\"True\")\n",
    "        else:\n",
    "            img_name_b3 = \"0_B3_Layer_\"+str(layer_no)+\".jpg\"\n",
    "            #print(\"False\")\n",
    "        ########### store image\n",
    "        if(layer_no>243 and layer_no<1243):\n",
    "            img_name = directory[0] + img_name_b1\n",
    "            matplotlib.image.imsave(img_name, img1)\n",
    "        \n",
    "            img_name = directory[1] + img_name_b2\n",
    "            matplotlib.image.imsave(img_name, img2)\n",
    "        if(layer_no>218 and layer_no<1218):\n",
    "            img_name = directory[2] + img_name_b3\n",
    "            matplotlib.image.imsave(img_name, img3)\n",
    "        #break\n"
   ]
  },
  {
   "cell_type": "code",
   "execution_count": 7,
   "metadata": {},
   "outputs": [],
   "source": [
    "# Load all image paths\n",
    "img_dir_paths, img_names = load_all_image_path(\"D:/UoH_PhD_Exp/Data/Build2\")"
   ]
  },
  {
   "cell_type": "code",
   "execution_count": 8,
   "metadata": {},
   "outputs": [
    {
     "name": "stdout",
     "output_type": "stream",
     "text": [
      "<class 'list'>\n",
      "2922\n",
      "<class 'list'>\n",
      "2922\n"
     ]
    }
   ],
   "source": [
    "def var_info(var):\n",
    "    print(type(var))\n",
    "    print(len(var))\n",
    "var_info(img_dir_paths)\n",
    "var_info(img_names)"
   ]
  },
  {
   "cell_type": "code",
   "execution_count": 9,
   "metadata": {},
   "outputs": [],
   "source": [
    "# Make directories to store crop images if the the directories don't exsists already\n",
    "directories = [\"D:/UoH_PhD_Exp/Data/Crop_images/B1/\", \"D:/UoH_PhD_Exp/Data/Crop_images/B2/\", \"D:/UoH_PhD_Exp/Data/Crop_images/B3/\"]\n",
    "for directory in directories:\n",
    "    if not os.path.exists(directory):\n",
    "        os.makedirs(directory)"
   ]
  },
  {
   "cell_type": "markdown",
   "metadata": {},
   "source": [
    "#### Remove all the old files in B1, B2 & B3 folder\n",
    "> Since we will be cropping images many times depedning upon the task at hand. Therefore, it is necessary to delete the old cropped images before saving the new cropped images. The following code empty the directories."
   ]
  },
  {
   "cell_type": "code",
   "execution_count": 10,
   "metadata": {},
   "outputs": [],
   "source": [
    "for directory in directories:\n",
    "    files = glob.glob(os.path.join(directory,\"*\"))\n",
    "    for f in files:\n",
    "        os.remove(f)"
   ]
  },
  {
   "cell_type": "markdown",
   "metadata": {},
   "source": [
    ">Since out of all the images the first 1250 layers/images are relevant to our builts. That's why only the first 1250 are considered. For B1, B2, and B3, the effective printing layers are 217-1206. For simplicity, uniformity and avoiding complexity, the relevant 1250 layers are selected."
   ]
  },
  {
   "cell_type": "code",
   "execution_count": 11,
   "metadata": {},
   "outputs": [],
   "source": [
    "#cropping images\n",
    "crop_save_images(img_dir_paths[217:1206] ,directories, img_names[217:1206]) "
   ]
  },
  {
   "cell_type": "markdown",
   "metadata": {},
   "source": [
    "### B1 Cylinder images"
   ]
  },
  {
   "cell_type": "code",
   "execution_count": 12,
   "metadata": {},
   "outputs": [
    {
     "name": "stdout",
     "output_type": "stream",
     "text": [
      "B1 image shape:  (190, 150, 3)\n",
      "B1 images dataset shape:  (963, 190, 150, 3)\n",
      "[0 1] [730 233]\n",
      "Total non-porosity images in B1:  730\n",
      "Total porosity images in B1:  233\n"
     ]
    }
   ],
   "source": [
    "files, labels = load_all_image_path(\"D:/UoH_PhD_Exp/Data/Crop_images/B1/\")\n",
    "#print(labels[0])\n",
    "#print(files[0])\n",
    "data = []\n",
    "b1_labels = list()\n",
    "b1_layer_numbers = list()\n",
    "for f1, lab in zip(files, labels):\n",
    "    #print(\"lab:\" + lab)\n",
    "    layer_num = re.search('Layer_(.+?).jpg', lab).group(1)\n",
    "    b1_layer_numbers.append(\"b1_\"+str(layer_num))\n",
    "    b1_labels.append(int(lab[0]))\n",
    "    img = cv2.imread(f1)\n",
    "    ######### Convert to Images to grey scale.\n",
    "    #gray = cv2.cvtColor(img, cv2.COLOR_BGR2GRAY)\n",
    "    data.append(img)\n",
    "b1_images = np.array(data)\n",
    "print(\"B1 image shape: \", b1_images[0].shape)\n",
    "#print(b1_labels[0])\n",
    "#print(b1_layer_numbers[0])\n",
    "print(\"B1 images dataset shape: \",b1_images.shape)\n",
    "(unique, counts) = np.unique(b1_labels, return_counts=True)\n",
    "print(unique, counts)\n",
    "print(\"Total non-porosity images in B1: \", counts[0])\n",
    "print(\"Total porosity images in B1: \", counts[1])"
   ]
  },
  {
   "cell_type": "markdown",
   "metadata": {},
   "source": [
    "### B2 Cylinder images"
   ]
  },
  {
   "cell_type": "code",
   "execution_count": 13,
   "metadata": {},
   "outputs": [
    {
     "name": "stdout",
     "output_type": "stream",
     "text": [
      "B2 image shape:  (190, 150, 3)\n",
      "B2 images dataset shape:  (963, 190, 150, 3)\n",
      "[0 1] [800 163]\n",
      "Total non-porosity images in B2:  800\n",
      "Total porosity images in B2:  163\n"
     ]
    }
   ],
   "source": [
    "files, labels = load_all_image_path(\"D:/UoH_PhD_Exp/Data/Crop_images/B2/\")\n",
    "data = []\n",
    "b2_labels = list()\n",
    "b2_layer_numbers = list()\n",
    "for f1, lab in zip(files, labels):\n",
    "    layer_num = re.search('Layer_(.+?).jpg', lab).group(1)\n",
    "    b2_layer_numbers.append(\"b2_\"+str(layer_num))\n",
    "    img = cv2.imread(f1)\n",
    "    b2_labels.append(int(lab[0]))\n",
    "    ######## Convert to Images to grey scale.\n",
    "    #gray = cv2.cvtColor(img, cv2.COLOR_BGR2GRAY)\n",
    "    data.append(img)\n",
    "b2_images = np.array(data)\n",
    "print(\"B2 image shape: \", b2_images[0].shape)\n",
    "#print(b2_labels[0])\n",
    "#print(b2_layer_numbers[0])\n",
    "print(\"B2 images dataset shape: \",b2_images.shape)\n",
    "(unique, counts) = np.unique(b2_labels, return_counts=True)\n",
    "print(unique, counts)\n",
    "print(\"Total non-porosity images in B2: \", counts[0])\n",
    "print(\"Total porosity images in B2: \", counts[1])"
   ]
  },
  {
   "cell_type": "markdown",
   "metadata": {},
   "source": [
    "### B3 Cylinder images"
   ]
  },
  {
   "cell_type": "code",
   "execution_count": 14,
   "metadata": {},
   "outputs": [
    {
     "name": "stdout",
     "output_type": "stream",
     "text": [
      "B1 image shape:  (190, 150, 3)\n",
      "B3 images dataset shape:  (963, 190, 150, 3)\n",
      "[0 1] [856 107]\n",
      "Total non-porosity images in B3:  856\n",
      "Total porosity images in B3:  107\n"
     ]
    }
   ],
   "source": [
    "files, labels = load_all_image_path(\"D:/UoH_PhD_Exp/Data/Crop_images/B3\")\n",
    "data = []\n",
    "b3_labels = list()\n",
    "b3_layer_numbers = list()\n",
    "for f1, lab in zip(files, labels):\n",
    "    layer_num = re.search('Layer_(.+?).jpg', lab).group(1)\n",
    "    b3_layer_numbers.append(\"b3_\"+str(layer_num))\n",
    "    img = cv2.imread(f1)\n",
    "    b3_labels.append(int(lab[0]))\n",
    "    ######## Convert to Images to grey scale.\n",
    "    #gray = cv2.cvtColor(img, cv2.COLOR_BGR2GRAY)\n",
    "    data.append(img)\n",
    "b3_images = np.array(data)\n",
    "print(\"B1 image shape: \", b3_images[0].shape)\n",
    "#print(b3_labels[0])\n",
    "#print(b3_layer_numbers[0])\n",
    "print(\"B3 images dataset shape: \",b3_images.shape)\n",
    "(unique, counts) = np.unique(b3_labels, return_counts=True)\n",
    "print(unique, counts)\n",
    "print(\"Total non-porosity images in B3: \", counts[0])\n",
    "print(\"Total porosity images in B3: \", counts[1])"
   ]
  },
  {
   "cell_type": "markdown",
   "metadata": {},
   "source": [
    "# 2. Data Pre-Processing"
   ]
  },
  {
   "cell_type": "markdown",
   "metadata": {},
   "source": [
    "__Ostu Binarisation__"
   ]
  },
  {
   "cell_type": "code",
   "execution_count": 15,
   "metadata": {},
   "outputs": [],
   "source": [
    "def ostu_thd(XX):\n",
    "    rnd_images = []\n",
    "    for img in XX:\n",
    "        #img = cv2.rgb2gray(img)\n",
    "        img = cv2.cvtColor(img, cv2.COLOR_BGR2GRAY)\n",
    "        # Otsu's thresholding\n",
    "        ret2,th2 = cv2.threshold(img,0,255,cv2.THRESH_BINARY+cv2.THRESH_OTSU)\n",
    "        rnd_images.append(th2)\n",
    "    test_images = np.array(rnd_images)\n",
    "    \n",
    "    return test_images"
   ]
  },
  {
   "cell_type": "markdown",
   "metadata": {},
   "source": [
    "__PreProcessing__"
   ]
  },
  {
   "cell_type": "code",
   "execution_count": 16,
   "metadata": {},
   "outputs": [],
   "source": [
    "def pre_process(X, y, indeces):\n",
    "    \n",
    "    # Split the images and labels using stratified to ensure same class distribution with 70/30 train test split.\n",
    "    X_train, X_test, y_train, y_test, X_indeces, y_indeces = train_test_split(X, y,indeces, test_size=0.3, random_state=786, stratify=y) \n",
    "    print(\"Total training intences: \" + str(len(y_train)))\n",
    "    print(\"Train Data:\" + str(np.unique(y_train, return_counts=True)))\n",
    "    print(\"Total testing intences: \" + str(len(y_test)))\n",
    "    print(\"Test Data:\" + str(np.unique(y_test, return_counts=True)))\n",
    "\n",
    "    print(\"\\n\\nBefore Reshaping the shape of train and test dataset:\")\n",
    "    print(X_train.shape)\n",
    "    print(X_test.shape)\n",
    "    # reshape to be [samples][width][height][channels]\n",
    "    X_train = X_train.reshape((X_train.shape[0], 190, 150, 1))\n",
    "    X_test = X_test.reshape((X_test.shape[0], 190, 150, 1))\n",
    "    print(\"After Reshaping the shape of train and test dataset:\")\n",
    "    print(X_train.shape)\n",
    "    print(X_test.shape)\n",
    "    \n",
    "    # Convert the array to float32 as opposed to uint8\n",
    "    X_train = X_train.astype(np.float32)\n",
    "    X_test = X_test.astype(np.float32)\n",
    "\n",
    "    # Convert the pixel values from integers between 0 and 255 to floats between 0 and 1\n",
    "    X_train /= 255\n",
    "    X_test /=  255\n",
    "\n",
    "    NUM_DIGITS = 2\n",
    "\n",
    "    print(\"Before label conversion to categorical: \", y_train[0:5]) # The format of the labels before conversion\n",
    "\n",
    "    y_train  = tf.keras.utils.to_categorical(y_train, NUM_DIGITS)\n",
    "\n",
    "    print(\"After label conversion to categorical: \", y_train[0:5]) # The format of the labels after conversion\n",
    "\n",
    "    y_test = tf.keras.utils.to_categorical(y_test, NUM_DIGITS)\n",
    "    \n",
    "    return X_train, X_test, y_train, y_test, X_indeces, y_indeces"
   ]
  },
  {
   "cell_type": "markdown",
   "metadata": {},
   "source": [
    "__Visualising randome 12 images from the dataset__"
   ]
  },
  {
   "cell_type": "code",
   "execution_count": 17,
   "metadata": {},
   "outputs": [],
   "source": [
    "def visualize_n_imgs(PBI_data,labels, n):\n",
    "    \n",
    "    rnd_indx = np.random.choice(PBI_data.shape[0], n, replace=False)\n",
    "    print(rnd_indx)\n",
    "    data = []\n",
    "    titles = []\n",
    "    for i in range(0,n):\n",
    "        index = rnd_indx[i]\n",
    "        titles.append(labels[index])\n",
    "        img = PBI_data[index]#:,:,:]\n",
    "        data.append(img)\n",
    "    test_images = np.array(data)\n",
    "\n",
    "    plt.figure(figsize=(16,8))\n",
    "    for i in range(n):\n",
    "        plt.subplot(int(n/4),4,i+1),plt.imshow(test_images[i],'gray')\n",
    "        plt.title(titles[i])\n",
    "        plt.xticks([]),plt.yticks([])\n",
    "\n",
    "    plt.show()\n",
    "    \n"
   ]
  },
  {
   "cell_type": "markdown",
   "metadata": {},
   "source": [
    "__Models Curves__"
   ]
  },
  {
   "cell_type": "code",
   "execution_count": 18,
   "metadata": {},
   "outputs": [],
   "source": [
    "def loss_accuracy_curves(history):\n",
    "    ############### printing accuracy and loss between the epoches #########\n",
    "    print(history.history.keys())\n",
    "    # summarize history for accuracy\n",
    "    plt.plot(history.history['accuracy'], label=\"Training\")\n",
    "    plt.plot(history.history['val_accuracy'], label =\"Validation\")\n",
    "    plt.title('model accuracy')\n",
    "    plt.ylabel('accuracy')\n",
    "    plt.xlabel('epoch')\n",
    "    plt.legend()\n",
    "    plt.legend(['train', 'test'], loc='upper left')\n",
    "    plt.show()\n",
    "    # summarize history for loss\n",
    "    plt.plot(history.history['loss'], label=\"Training\")\n",
    "    plt.plot(history.history['val_loss'], label =\"Validation\")\n",
    "    plt.title('model loss')\n",
    "    plt.ylabel('loss')\n",
    "    plt.xlabel('epoch')\n",
    "    plt.legend()\n",
    "    plt.legend(['train', 'test'], loc='upper left')\n",
    "    plt.show()"
   ]
  },
  {
   "cell_type": "code",
   "execution_count": 19,
   "metadata": {},
   "outputs": [
    {
     "name": "stdout",
     "output_type": "stream",
     "text": [
      "Total images dataset(X) before Otsu thresholding: (2889, 190, 150, 3)\n",
      "Total labels (y): 2889\n",
      "[0 1] [2386  503]\n",
      "Total non-porosity images in final concatenanted dataset:  2386\n",
      "Total porosity images in final concatenanted dataset:  503\n",
      "Total images dataset(X) after Otsu thresholding: (2889, 190, 150)\n",
      "\n",
      "Total training intences: 2022\n",
      "Train Data:(array([0, 1]), array([1670,  352], dtype=int64))\n",
      "Total testing intences: 867\n",
      "Test Data:(array([0, 1]), array([716, 151], dtype=int64))\n",
      "\n",
      "\n",
      "Before Reshaping the shape of train and test dataset:\n",
      "(2022, 190, 150)\n",
      "(867, 190, 150)\n",
      "After Reshaping the shape of train and test dataset:\n",
      "(2022, 190, 150, 1)\n",
      "(867, 190, 150, 1)\n",
      "Before label conversion to categorical:  [1, 0, 0, 0, 0]\n",
      "After label conversion to categorical:  [[0. 1.]\n",
      " [1. 0.]\n",
      " [1. 0.]\n",
      " [1. 0.]\n",
      " [1. 0.]]\n"
     ]
    }
   ],
   "source": [
    "# Indeces for mode testing at later stages to find the wrong images\n",
    "indeces = np.arange(0,2889,1)\n",
    "# concatetinating data\n",
    "X = np.concatenate((b1_images, b2_images, b3_images), axis=0)\n",
    "y = b1_labels + b2_labels + b3_labels\n",
    "layer_nums = b1_layer_numbers + b2_layer_numbers + b3_layer_numbers\n",
    "\n",
    "print(\"Total images dataset(X) before Otsu thresholding: \" + str(X.shape))\n",
    "print(\"Total labels (y): \" + str(len(y)))\n",
    "(unique, counts) = np.unique(y, return_counts=True)\n",
    "print(unique, counts)\n",
    "print(\"Total non-porosity images in final concatenanted dataset: \", counts[0])\n",
    "print(\"Total porosity images in final concatenanted dataset: \", counts[1])\n",
    "X = ostu_thd(X)\n",
    "print(\"Total images dataset(X) after Otsu thresholding: \" + str(X.shape) + \"\\n\")\n",
    "X_train, X_test, y_train, y_test,X_indeces, y_indeces = pre_process(X,y, indeces)"
   ]
  },
  {
   "cell_type": "markdown",
   "metadata": {},
   "source": [
    "# 3. Model\n",
    "__Model Definition__"
   ]
  },
  {
   "cell_type": "code",
   "execution_count": 20,
   "metadata": {},
   "outputs": [
    {
     "name": "stdout",
     "output_type": "stream",
     "text": [
      "Model: \"sequential\"\n",
      "_________________________________________________________________\n",
      "Layer (type)                 Output Shape              Param #   \n",
      "=================================================================\n",
      "conv2d (Conv2D)              (None, 190, 150, 32)      832       \n",
      "_________________________________________________________________\n",
      "max_pooling2d (MaxPooling2D) (None, 95, 75, 32)        0         \n",
      "_________________________________________________________________\n",
      "conv2d_1 (Conv2D)            (None, 91, 71, 48)        38448     \n",
      "_________________________________________________________________\n",
      "max_pooling2d_1 (MaxPooling2 (None, 45, 35, 48)        0         \n",
      "_________________________________________________________________\n",
      "flatten (Flatten)            (None, 75600)             0         \n",
      "_________________________________________________________________\n",
      "dense (Dense)                (None, 128)               9676928   \n",
      "_________________________________________________________________\n",
      "dense_1 (Dense)              (None, 64)                8256      \n",
      "_________________________________________________________________\n",
      "dense_2 (Dense)              (None, 2)                 130       \n",
      "=================================================================\n",
      "Total params: 9,724,594\n",
      "Trainable params: 9,724,594\n",
      "Non-trainable params: 0\n",
      "_________________________________________________________________\n"
     ]
    }
   ],
   "source": [
    "np.random.seed(786)\n",
    "model = tf.keras.Sequential()\n",
    "\n",
    "model.add(tf.keras.layers.Conv2D(filters=32, kernel_size=(5, 5), padding='same', activation='relu', input_shape=(190, 150,1)))\n",
    "model.add(tf.keras.layers.MaxPool2D(strides=2))\n",
    "model.add(tf.keras.layers.Conv2D(filters=48, kernel_size=(5, 5), padding='valid', activation='relu'))\n",
    "model.add(tf.keras.layers.MaxPool2D(strides=2))\n",
    "model.add(tf.keras.layers.Flatten())\n",
    "model.add(tf.keras.layers.Dense(128, activation=tf.nn.relu, input_shape=(28500,)))\n",
    "#model.add(tf.keras.layers.Dense(256, activation='relu'))\n",
    "model.add(tf.keras.layers.Dense(64, activation='relu'))\n",
    "#model.add(tf.keras.layers.Dense(10, activation='softmax'))\n",
    "\n",
    "\n",
    "\n",
    "model.add(tf.keras.layers.Dense(2, activation=tf.nn.softmax))\n",
    "\n",
    "# We will now compile and print out a summary of our model\n",
    "model.compile(loss='categorical_crossentropy',\n",
    "              optimizer='rmsprop',\n",
    "              metrics=['accuracy'])\n",
    "\n",
    "model.summary()"
   ]
  },
  {
   "cell_type": "markdown",
   "metadata": {},
   "source": [
    "__Class Weight__  "
   ]
  },
  {
   "cell_type": "code",
   "execution_count": 21,
   "metadata": {},
   "outputs": [],
   "source": [
    "weight_for_0 = 0.3\n",
    "weight_for_1 = 0.7\n",
    "my_class_weight = {0: weight_for_0, 1: weight_for_1}\n"
   ]
  },
  {
   "cell_type": "markdown",
   "metadata": {},
   "source": [
    "__Model Training__"
   ]
  },
  {
   "cell_type": "code",
   "execution_count": 22,
   "metadata": {},
   "outputs": [
    {
     "name": "stdout",
     "output_type": "stream",
     "text": [
      "WARNING:tensorflow:From D:\\PhD_Experiments\\Imgae_classification\\Grow_AM\\ve_grow\\lib\\site-packages\\tensorflow\\python\\ops\\array_ops.py:5043: calling gather (from tensorflow.python.ops.array_ops) with validate_indices is deprecated and will be removed in a future version.\n",
      "Instructions for updating:\n",
      "The `validate_indices` argument has no effect. Indices are always validated on CPU and never validated on GPU.\n",
      "Epoch 1/20\n",
      "45/45 [==============================] - 7s 100ms/step - loss: 0.3607 - accuracy: 0.8106 - val_loss: 0.3715 - val_accuracy: 0.8731\n",
      "Epoch 2/20\n",
      "45/45 [==============================] - 4s 83ms/step - loss: 0.1871 - accuracy: 0.8784 - val_loss: 0.4197 - val_accuracy: 0.8600\n",
      "Epoch 3/20\n",
      "45/45 [==============================] - 4s 83ms/step - loss: 0.1970 - accuracy: 0.8558 - val_loss: 0.2944 - val_accuracy: 0.9110\n",
      "Epoch 4/20\n",
      "45/45 [==============================] - 4s 83ms/step - loss: 0.1985 - accuracy: 0.8756 - val_loss: 0.4336 - val_accuracy: 0.9143\n",
      "Epoch 5/20\n",
      "45/45 [==============================] - 4s 83ms/step - loss: 0.1603 - accuracy: 0.8862 - val_loss: 0.3154 - val_accuracy: 0.9160\n",
      "Epoch 6/20\n",
      "45/45 [==============================] - 4s 83ms/step - loss: 0.1317 - accuracy: 0.9081 - val_loss: 0.2695 - val_accuracy: 0.9242\n",
      "Epoch 7/20\n",
      "45/45 [==============================] - 4s 83ms/step - loss: 0.1582 - accuracy: 0.8982 - val_loss: 0.3511 - val_accuracy: 0.9061\n",
      "Epoch 8/20\n",
      "45/45 [==============================] - 4s 83ms/step - loss: 0.0955 - accuracy: 0.9357 - val_loss: 0.3447 - val_accuracy: 0.8929\n",
      "Epoch 9/20\n",
      "45/45 [==============================] - 4s 83ms/step - loss: 0.1086 - accuracy: 0.9201 - val_loss: 0.3420 - val_accuracy: 0.9044\n",
      "Epoch 10/20\n",
      "45/45 [==============================] - 4s 83ms/step - loss: 0.0593 - accuracy: 0.9527 - val_loss: 0.4139 - val_accuracy: 0.9127\n",
      "Epoch 11/20\n",
      "45/45 [==============================] - 4s 83ms/step - loss: 0.0410 - accuracy: 0.9633 - val_loss: 0.4467 - val_accuracy: 0.8847\n",
      "Epoch 12/20\n",
      "45/45 [==============================] - 4s 83ms/step - loss: 0.0302 - accuracy: 0.9717 - val_loss: 0.6285 - val_accuracy: 0.8303\n",
      "Epoch 13/20\n",
      "45/45 [==============================] - 4s 83ms/step - loss: 0.0220 - accuracy: 0.9866 - val_loss: 0.4102 - val_accuracy: 0.9110\n",
      "Epoch 14/20\n",
      "45/45 [==============================] - 4s 83ms/step - loss: 0.0167 - accuracy: 0.9845 - val_loss: 0.6524 - val_accuracy: 0.7825\n",
      "Epoch 15/20\n",
      "45/45 [==============================] - 4s 83ms/step - loss: 0.0114 - accuracy: 0.9901 - val_loss: 0.4982 - val_accuracy: 0.8979\n",
      "Epoch 16/20\n",
      "45/45 [==============================] - 4s 83ms/step - loss: 0.0076 - accuracy: 0.9929 - val_loss: 0.5648 - val_accuracy: 0.9094\n",
      "Epoch 17/20\n",
      "45/45 [==============================] - 4s 83ms/step - loss: 0.0011 - accuracy: 1.0000 - val_loss: 0.9865 - val_accuracy: 0.9094\n",
      "Epoch 18/20\n",
      "45/45 [==============================] - 4s 83ms/step - loss: 0.0062 - accuracy: 0.9965 - val_loss: 0.7399 - val_accuracy: 0.9110\n",
      "Epoch 19/20\n",
      "45/45 [==============================] - 4s 83ms/step - loss: 0.0219 - accuracy: 0.9951 - val_loss: 0.6407 - val_accuracy: 0.9077\n",
      "Epoch 20/20\n",
      "45/45 [==============================] - 4s 83ms/step - loss: 0.0014 - accuracy: 0.9993 - val_loss: 0.7371 - val_accuracy: 0.9012\n"
     ]
    }
   ],
   "source": [
    "#model.fit(samples_cnn, dataset.labels, epochs=epochs, batch_size=batch_size, verbose=1)\n",
    "history = model.fit(X_train, y_train, validation_split=0.3, epochs=20,verbose=1, class_weight=my_class_weight)#, batch_size=250, verbose=1)"
   ]
  },
  {
   "cell_type": "markdown",
   "metadata": {},
   "source": [
    "__Model Testing__"
   ]
  },
  {
   "cell_type": "code",
   "execution_count": 23,
   "metadata": {},
   "outputs": [
    {
     "name": "stdout",
     "output_type": "stream",
     "text": [
      "28/28 [==============================] - 1s 29ms/step - loss: 0.7878 - accuracy: 0.9043\n",
      "Test accuracy: 0.90\n"
     ]
    }
   ],
   "source": [
    "loss, accuracy = model.evaluate(X_test, y_test)\n",
    "print('Test accuracy: %.2f' % (accuracy))"
   ]
  },
  {
   "cell_type": "markdown",
   "metadata": {},
   "source": [
    "__Model Evaluation__"
   ]
  },
  {
   "cell_type": "code",
   "execution_count": 24,
   "metadata": {},
   "outputs": [
    {
     "name": "stdout",
     "output_type": "stream",
     "text": [
      "[0 0 0 0 0 0 0 0 0 0 0 0 0 0 0 1 0 0 0 0 0 0 0 0 0]\n",
      "[0 0 0 0 0 0 0 0 0 0 0 0 0 0 0 1 0 0 0 0 0 0 0 0 0]\n",
      "              precision    recall  f1-score   support\n",
      "\n",
      "           0       0.92      0.97      0.94       716\n",
      "           1       0.80      0.60      0.69       151\n",
      "\n",
      "    accuracy                           0.90       867\n",
      "   macro avg       0.86      0.79      0.82       867\n",
      "weighted avg       0.90      0.90      0.90       867\n",
      "\n",
      "[[693  23]\n",
      " [ 60  91]]\n",
      "0.9042675893886967\n",
      "dict_keys(['loss', 'accuracy', 'val_loss', 'val_accuracy'])\n"
     ]
    },
    {
     "data": {
      "image/png": "[encoded data removed]",
      "text/plain": [
       "<Figure size 432x288 with 1 Axes>"
      ]
     },
     "metadata": {
      "needs_background": "light"
     },
     "output_type": "display_data"
    },
    {
     "data": {
      "image/png": "[encoded data removed]",
      "text/plain": [
       "<Figure size 432x288 with 1 Axes>"
      ]
     },
     "metadata": {
      "needs_background": "light"
     },
     "output_type": "display_data"
    }
   ],
   "source": [
    "#### testing model on unseen test images\n",
    "y_pred = model.predict(X_test)\n",
    "#Convert class attribute back to its origional form, 0,1 from categorical [1. 0., 0. 1.]\n",
    "y_actual = np.argmax(y_test,axis=1)\n",
    "print(y_actual[0:25])\n",
    "y_pred = np.argmax(y_pred,axis=1)\n",
    "print(y_pred[0:25])\n",
    "\n",
    "#Accuracy of the model on test dataset \n",
    "print(classification_report(y_actual,y_pred))\n",
    "print(confusion_matrix(y_actual,y_pred))\n",
    "print(accuracy_score(y_actual,y_pred))\n",
    "#Models training and testing curves\n",
    "loss_accuracy_curves(history)"
   ]
  },
  {
   "cell_type": "markdown",
   "metadata": {},
   "source": [
    "# 4. Model Debugging\n",
    "\n",
    ">Find out the images wrongly classified. we will find out their indexes by comparing actual and predicte labels.\n",
    "The indexs will be used to print the images in the later stage."
   ]
  },
  {
   "cell_type": "code",
   "execution_count": 25,
   "metadata": {},
   "outputs": [
    {
     "name": "stdout",
     "output_type": "stream",
     "text": [
      "Total Wrong Imgaes: 83\n",
      "Total Correct Imgaes: 784\n"
     ]
    }
   ],
   "source": [
    "j = 0\n",
    "# Output list intialisation \n",
    "wrongClassiified_indexes = []\n",
    "CorrectClassiified_indexes = []\n",
    "# Using iteration to find \n",
    "for i in y_actual: \n",
    "    if i != y_pred[j]: \n",
    "        wrongClassiified_indexes.append(j) \n",
    "    else:\n",
    "        CorrectClassiified_indexes.append(j)\n",
    "    j = j + 1\n",
    "    \n",
    "#print(wrongClassiified_indexes)\n",
    "print(\"Total Wrong Imgaes: \" + str(len(wrongClassiified_indexes)))\n",
    "#print(CorrectClassiified_indexes)\n",
    "print(\"Total Correct Imgaes: \" + str(len(CorrectClassiified_indexes)))"
   ]
  },
  {
   "cell_type": "code",
   "execution_count": 26,
   "metadata": {},
   "outputs": [
    {
     "name": "stdout",
     "output_type": "stream",
     "text": [
      "Prd      Act      Image name\n",
      "\n",
      "Prd: 0   Act:1   Layer: b1_366\n",
      "Prd: 1   Act:0   Layer: b3_549\n",
      "Prd: 0   Act:1   Layer: b1_553\n",
      "Prd: 1   Act:0   Layer: b1_396\n",
      "Prd: 0   Act:1   Layer: b3_439\n",
      "Prd: 0   Act:1   Layer: b1_1149\n",
      "Prd: 1   Act:0   Layer: b3_396\n",
      "Prd: 0   Act:1   Layer: b1_947\n",
      "Prd: 1   Act:0   Layer: b1_1143\n",
      "Prd: 0   Act:1   Layer: b3_425\n",
      "Prd: 0   Act:1   Layer: b3_430\n",
      "Prd: 0   Act:1   Layer: b1_1012\n",
      "Prd: 0   Act:1   Layer: b2_547\n",
      "Prd: 0   Act:1   Layer: b2_452\n",
      "Prd: 0   Act:1   Layer: b1_1151\n",
      "Prd: 1   Act:0   Layer: b1_554\n",
      "Prd: 0   Act:1   Layer: b3_522\n",
      "Prd: 0   Act:1   Layer: b2_744\n",
      "Prd: 0   Act:1   Layer: b2_534\n",
      "Prd: 0   Act:1   Layer: b1_1150\n",
      "Prd: 0   Act:1   Layer: b1_640\n",
      "Prd: 1   Act:0   Layer: b1_298\n",
      "Prd: 1   Act:0   Layer: b2_842\n",
      "Prd: 0   Act:1   Layer: b1_835\n",
      "Prd: 0   Act:1   Layer: b1_842\n",
      "Prd: 0   Act:1   Layer: b2_651\n",
      "Prd: 0   Act:1   Layer: b3_920\n",
      "Prd: 1   Act:0   Layer: b2_416\n",
      "Prd: 0   Act:1   Layer: b2_738\n",
      "Prd: 0   Act:1   Layer: b1_541\n",
      "Prd: 0   Act:1   Layer: b2_745\n",
      "Prd: 0   Act:1   Layer: b1_540\n",
      "Prd: 0   Act:1   Layer: b2_542\n",
      "Prd: 0   Act:1   Layer: b2_743\n",
      "Prd: 0   Act:1   Layer: b1_311\n",
      "Prd: 1   Act:0   Layer: b3_1102\n",
      "Prd: 0   Act:1   Layer: b3_621\n",
      "Prd: 0   Act:1   Layer: b3_728\n",
      "Prd: 0   Act:1   Layer: b3_733\n",
      "Prd: 1   Act:0   Layer: b2_244\n",
      "Prd: 1   Act:0   Layer: b2_380\n",
      "Prd: 1   Act:0   Layer: b1_1104\n",
      "Prd: 0   Act:1   Layer: b3_622\n",
      "Prd: 1   Act:0   Layer: b1_1139\n",
      "Prd: 0   Act:1   Layer: b3_538\n",
      "Prd: 0   Act:1   Layer: b1_946\n",
      "Prd: 0   Act:1   Layer: b2_456\n",
      "Prd: 0   Act:1   Layer: b2_739\n",
      "Prd: 1   Act:0   Layer: b2_691\n",
      "Prd: 1   Act:0   Layer: b3_547\n",
      "Prd: 0   Act:1   Layer: b1_375\n",
      "Prd: 0   Act:1   Layer: b1_642\n",
      "Prd: 1   Act:0   Layer: b2_480\n",
      "Prd: 1   Act:0   Layer: b2_795\n",
      "Prd: 1   Act:0   Layer: b1_927\n",
      "Prd: 0   Act:1   Layer: b1_629\n",
      "Prd: 0   Act:1   Layer: b1_648\n",
      "Prd: 0   Act:1   Layer: b1_661\n",
      "Prd: 0   Act:1   Layer: b1_1019\n",
      "Prd: 0   Act:1   Layer: b2_641\n",
      "Prd: 1   Act:0   Layer: b1_676\n",
      "Prd: 0   Act:1   Layer: b1_952\n",
      "Prd: 0   Act:1   Layer: b1_628\n",
      "Prd: 0   Act:1   Layer: b3_724\n",
      "Prd: 0   Act:1   Layer: b2_741\n",
      "Prd: 0   Act:1   Layer: b1_369\n",
      "Prd: 0   Act:1   Layer: b1_943\n",
      "Prd: 0   Act:1   Layer: b1_539\n",
      "Prd: 0   Act:1   Layer: b1_326\n",
      "Prd: 0   Act:1   Layer: b1_941\n",
      "Prd: 0   Act:1   Layer: b1_834\n",
      "Prd: 0   Act:1   Layer: b3_729\n",
      "Prd: 0   Act:1   Layer: b2_643\n",
      "Prd: 1   Act:0   Layer: b1_1138\n",
      "Prd: 1   Act:0   Layer: b1_1084\n",
      "Prd: 1   Act:0   Layer: b1_1159\n",
      "Prd: 0   Act:1   Layer: b1_1145\n",
      "Prd: 0   Act:1   Layer: b2_539\n",
      "Prd: 1   Act:0   Layer: b1_587\n",
      "Prd: 0   Act:1   Layer: b3_436\n",
      "Prd: 0   Act:1   Layer: b1_641\n",
      "Prd: 0   Act:1   Layer: b1_833\n",
      "Prd: 0   Act:1   Layer: b2_640\n"
     ]
    }
   ],
   "source": [
    "# Printing the predicted and actual labels of the wrong predicted images along with the image name\n",
    "print(\"Prd      Act      Image name\\n\")\n",
    "for i in range(0, len(wrongClassiified_indexes)):\n",
    "    index = wrongClassiified_indexes[i]\n",
    "    print(\"Prd: \" + str(y_pred[index]) + \"   Act:\" + str(y_actual[index]) + \"   Layer: \" + str(layer_nums[y_indeces[index]]))"
   ]
  },
  {
   "cell_type": "markdown",
   "metadata": {},
   "source": [
    "__Rescalling back to three dimentions for visualization__"
   ]
  },
  {
   "cell_type": "code",
   "execution_count": 27,
   "metadata": {},
   "outputs": [],
   "source": [
    "# reshape to be [samples][width][height][channels]\n",
    "temp_X_train = X_train.reshape((X_train.shape[0], 190, 150))\n",
    "temp_X_test = X_test.reshape((X_test.shape[0], 190, 150))"
   ]
  },
  {
   "cell_type": "markdown",
   "metadata": {},
   "source": [
    "### 4.1 Wrongly classified Images\n",
    "> Randomly visualised 16 wrong predicted images along with the actual and predicted labels."
   ]
  },
  {
   "cell_type": "code",
   "execution_count": 28,
   "metadata": {},
   "outputs": [
    {
     "name": "stdout",
     "output_type": "stream",
     "text": [
      "[500 758 181 710 310 469 369 298 339 444 537 149 567 528 137 232]\n"
     ]
    },
    {
     "data": {
      "image/png": "[encoded data removed]",
      "text/plain": [
       "<Figure size 1440x720 with 16 Axes>"
      ]
     },
     "metadata": {},
     "output_type": "display_data"
    }
   ],
   "source": [
    "n = 16\n",
    "rnd_indx = np.random.choice(wrongClassiified_indexes, n, replace=False)\n",
    "print(rnd_indx)\n",
    "data = []\n",
    "titles = []\n",
    "#hardcode_index = [438,1092,624,6,74,1077,270,726,151,273,80,450,609,1085,290,23]\n",
    "for i in range(0,n):\n",
    "    index = rnd_indx[i]\n",
    "    #index = hardcode_index[i]\n",
    "    titles.append(\"Prd: \" + str(y_pred[index]) + \"Act:\" + str(y_actual[index]) + \"Layer: \" + str(layer_nums[y_indeces[index]]))\n",
    "    img = temp_X_test[index]#:,:,:]\n",
    "    data.append(img)\n",
    "test_images = np.array(data)\n",
    "\n",
    "plt.figure(figsize=(20,10))\n",
    "for i in range(n):\n",
    "    plt.subplot(int(n/4),4,i+1),plt.imshow(test_images[i],'gray')\n",
    "    plt.title(titles[i])\n",
    "    plt.xticks([]),plt.yticks([])\n",
    "\n",
    "plt.show()"
   ]
  },
  {
   "cell_type": "markdown",
   "metadata": {},
   "source": [
    "### 4.2 Correct Classified Images\n",
    "> Randomly visualised 16 Correct predicted images along with the actual and predicted labels."
   ]
  },
  {
   "cell_type": "code",
   "execution_count": 29,
   "metadata": {},
   "outputs": [
    {
     "name": "stdout",
     "output_type": "stream",
     "text": [
      "[747 216 507 745 355 545 596 438 365 395 302 752  48 533 371 591]\n"
     ]
    },
    {
     "data": {
      "image/png": "[encoded data removed]",
      "text/plain": [
       "<Figure size 1440x720 with 16 Axes>"
      ]
     },
     "metadata": {},
     "output_type": "display_data"
    }
   ],
   "source": [
    "rnd_indx = np.random.choice(CorrectClassiified_indexes, n, replace=False)\n",
    "print(rnd_indx)\n",
    "n = 16\n",
    "data = []\n",
    "titles = []\n",
    "#hardcode_index = [282,824,300,864,717,995,248,29,151,273,80,450,609,1085,290,23]\n",
    "for i in range(0,n):\n",
    "    index = rnd_indx[i]\n",
    "    #index = hardcode_index[i]\n",
    "    titles.append(\"Prd: \" + str(y_pred[index]) + \"Act:\" + str(y_actual[index]) + \"Layer: \" + str(layer_nums[y_indeces[index]]))\n",
    "    img = X_test[index]#:,:,:]\n",
    "    data.append(img)\n",
    "test_images = np.array(data)\n",
    "\n",
    "plt.figure(figsize=(20,10))\n",
    "for i in range(n):\n",
    "    plt.subplot(int(n/4),4,i+1),plt.imshow(test_images[i],'gray')\n",
    "    plt.title(titles[i])\n",
    "    plt.xticks([]),plt.yticks([])\n",
    "\n",
    "plt.show()"
   ]
  }
 ],
 "metadata": {
  "kernelspec": {
   "display_name": "ve_grow_K",
   "language": "python",
   "name": "ve_grow_k"
  },
  "language_info": {
   "codemirror_mode": {
    "name": "ipython",
    "version": 3
   },
   "file_extension": ".py",
   "mimetype": "text/x-python",
   "name": "python",
   "nbconvert_exporter": "python",
   "pygments_lexer": "ipython3",
   "version": "3.9.0"
  }
 },
 "nbformat": 4,
 "nbformat_minor": 2
}
