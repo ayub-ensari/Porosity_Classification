{
 "cells": [
  {
   "cell_type": "markdown",
   "metadata": {},
   "source": [
    "# Hyper parameter tuning\n",
    "## Part 1: Balanced data via Data Augmentation"
   ]
  },
  {
   "cell_type": "code",
   "execution_count": 1,
   "metadata": {},
   "outputs": [],
   "source": [
    "import cv2\n",
    "import numpy as np\n",
    "import matplotlib.pyplot as plt\n",
    "from matplotlib.pyplot import figure\n",
    "from os import walk\n",
    "import time\n",
    "import regex as re\n",
    "import os\n",
    "import glob\n",
    "import tensorflow as tf\n",
    "import warnings\n",
    "import matplotlib\n",
    "import h5py\n",
    "from sklearn.model_selection import train_test_split\n",
    "from sklearn.metrics import classification_report,confusion_matrix, accuracy_score"
   ]
  },
  {
   "cell_type": "code",
   "execution_count": 2,
   "metadata": {},
   "outputs": [
    {
     "name": "stderr",
     "output_type": "stream",
     "text": [
      "[NbConvertApp] Converting notebook 6_Model_Training_XCT-Debugging.ipynb to script\n",
      "[NbConvertApp] Writing 30204 bytes to reqs\\6_Model_Training_XCT-Debugging.py\n"
     ]
    },
    {
     "name": "stdout",
     "output_type": "stream",
     "text": [
      "h5py==3.7.0\n",
      "matplotlib==3.5.3\n",
      "MedPy==0.4.0\n",
      "numpy==1.23.2\n",
      "opencv_python==4.6.0.66\n",
      "pandas==1.4.3\n",
      "regex==2022.8.17\n",
      "scikit_image==0.19.3\n",
      "scikit_learn==1.1.2\n",
      "skimage==0.0\n",
      "tensorflow==2.10.0\n",
      "tensorflow_gpu==2.7.0\n"
     ]
    },
    {
     "name": "stderr",
     "output_type": "stream",
     "text": [
      "INFO: Successfully output requirements\n"
     ]
    }
   ],
   "source": [
    "!jupyter nbconvert --output-dir=\"./reqs\" --to script 6_Model_Training_XCT-Debugging\n",
    "!cd reqs\n",
    "!pipreqs --print"
   ]
  },
  {
   "cell_type": "markdown",
   "metadata": {},
   "source": [
    "# 1. Data Acqusition"
   ]
  },
  {
   "cell_type": "code",
   "execution_count": 3,
   "metadata": {},
   "outputs": [],
   "source": [
    "def load_all_image_path(img_dir):\n",
    "    \n",
    "    #img_dir = \"./Build2\" # Enter Directory of all images\n",
    "    img_labels = []\n",
    "    for(_, _, filenames) in walk(img_dir):\n",
    "        img_labels.extend(filenames)\n",
    "        break\n",
    "    data_path = os.path.join(img_dir,'*g')\n",
    "    files = glob.glob(data_path)\n",
    "    return files, img_labels\n",
    "    "
   ]
  },
  {
   "cell_type": "markdown",
   "metadata": {},
   "source": [
    "### Data Labels\n",
    "__Layers with porosity__\n",
    "> Followig are the index numbers of porosity images from three cylinders, B1, B2 & B3. The labels were based on the CAD file\n",
    "information."
   ]
  },
  {
   "cell_type": "markdown",
   "metadata": {},
   "source": [
    "__Old Labels__"
   ]
  },
  {
   "cell_type": "code",
   "execution_count": 4,
   "metadata": {},
   "outputs": [],
   "source": [
    "b1_prosity_index = list(range(311,380)) + list(range(537, 554)) + list(range(628, 663)) + list(range(832, 862)) + list(range(936, 937)) + list(range(940, 953)) + list(range(1011, 1078)) + list(range(1145, 1152))\n",
    "b2_prosity_index = list(range(311,380)) + list(range(428, 463)) + list(range(531, 560)) + list(range(640, 654)) + list(range(737, 753))\n",
    "b3_prosity_index = list(range(420,456)) + list(range(519, 546)) + list(range(619, 634)) + list(range(719, 736)) + list(range(819, 827)) + list(range(919, 923))"
   ]
  },
  {
   "cell_type": "markdown",
   "metadata": {},
   "source": [
    "__New Labels__\n",
    "\n",
    "The following image indexes were wrongly labels in CAD-assisted labelling. All these images were wrongly labelled as porosity i.e. porosity=1. We relabelled these indexes from porosity to non-porosity labels. "
   ]
  },
  {
   "cell_type": "code",
   "execution_count": 5,
   "metadata": {},
   "outputs": [],
   "source": [
    "b1_remove_index = [311,312,313,318,320,325,326,335,340,366,369,374,375,376,537,538,539,540,541,542,543,544,545,546,547,\n",
    "                       548,549,550,551,552,553,628,629,630,633,640,641,642,643,646,647,648,649,650,651,653,654,656,657,659,\n",
    "                      661,662,833,832,833,834,835,836,837,838,840,842,843,844,845,846,847,849,850,851,852,853,855,857,936,\n",
    "                       940,947,949,950,952,1011,1011,1012,1014,1018,1019,1020,1029,1030,1045,1075,1145,1146,1147,1148,1149,\n",
    "                       1150,1151]\n",
    "\n",
    "\n",
    "b2_remove_index = [320,324,429,430,431,432,433,434,437,450,451,452,456,459,462,531,532,533,534,535,536,537,\n",
    "                      538,539,540,541,542,544,545,548,549,550,554,559,640,641,642,643,644,645,646,647,651,737,\n",
    "                      740,741,742,743,744,745,748,750,751,752]\n",
    "\n",
    "\n",
    "b3_remove_index = [420,423,425,436,439,442,449,453,519,521,522,533,534,538,541,542,543,620,621,622,627,629,\n",
    "                      630,631,632,721,723,724,727,728,729,733,735,819,820,821,822,826,919,920,921,922]"
   ]
  },
  {
   "cell_type": "code",
   "execution_count": 6,
   "metadata": {},
   "outputs": [],
   "source": [
    "#remove the indexex from B1_porosity_index list that are present in B1-remove_index list\n",
    "\n",
    "b1_prosity_index = [x for x in b1_prosity_index if x not in b1_remove_index]\n",
    "\n",
    "b2_prosity_index = [x for x in b2_prosity_index if x not in b2_remove_index]\n",
    "\n",
    "b3_prosity_index = [x for x in b3_prosity_index if x not in b3_remove_index]"
   ]
  },
  {
   "cell_type": "markdown",
   "metadata": {},
   "source": [
    "### Image selection and Cropping\n",
    "\n",
    "> The following function receives a chunk of image's path and their corresponding labels. Not all the images in Build2 are relevant to our cylinders. Out of total 2922 images, only 963 images relevant to our 3d objects. Three cylinders names as B1, B2, B3 were printed. Images from 243 to 1243 are related to B1 and B2 cylinders. Whereas, B3 cylinder related images are ranges from 218 to 1218. \n",
    "<br><br><br>\n",
    "Firstly, the images were read into a numpy array. The image dimensions are __height = 2600 and Width = 1420__. Each image is then cropped into three small sections. __Height=1250-1440 and width=650-1100__ is firstly croped from the whole powder bed image.  <br> <br>\n",
    "The cropped image is further is divided into three parts, each containg the image of a cylinder[B1,B2,B3]. The coordinates of __B1=[h:0-190, w:0-150]__, __B2 = [h:0-190, w:150-300]__ , __B3 = [h:0-190, w:300-450]__. The three images were then stored in different folders on the hard-drive.  \n",
    "> The __crop_save_images__ function read images from hard drive and crop out B1, B2, and B3 cylinders into individual images. It also labels the images. The label consisted of \n",
    "__label = Porosity_flag +  cylinder name + layer number__ "
   ]
  },
  {
   "cell_type": "code",
   "execution_count": 8,
   "metadata": {},
   "outputs": [],
   "source": [
    "def crop_save_images(files, directory, labels):\n",
    "      \n",
    "    for f1,lab in zip(files,labels):\n",
    "        #F1 = File path.\n",
    "        #lab = Image label\n",
    "        #print(\"F1: \" + str(f1))\n",
    "        #print(\"Lab: \" +  str(lab))\n",
    "        ########## read image\n",
    "        orig_img = cv2.imread(f1)\n",
    "\n",
    "        ########### crop image\n",
    "        img = orig_img[1250:1440, 650:1100]\n",
    "        img1 = img[0:190,0:150]\n",
    "        img2 = img[0:190,150:300]\n",
    "        img3 = img[0:190,300:450]\n",
    "\n",
    "        ########### Label Image\n",
    "        \n",
    "        tt = lab[:-4].split('_')\n",
    "        #tt = layer number\n",
    "        #print(tt[3])\n",
    "        layer_no = int(tt[3])\n",
    "        \n",
    "        if (layer_no in b1_prosity_index):\n",
    "            img_name_b1 = \"1_B1_Layer_\"+str(layer_no)+\".jpg\"\n",
    "            #print(layer_no)\n",
    "            #print(\"True\")\n",
    "        else:\n",
    "            img_name_b1 = \"0_B1_Layer_\"+str(layer_no)+\".jpg\"\n",
    "            #print(\"False\")\n",
    "            \n",
    "        if (layer_no in b2_prosity_index):\n",
    "            img_name_b2 = \"1_B2_Layer_\"+str(layer_no)+\".jpg\"\n",
    "            #print(layer_no)\n",
    "            #print(\"True\")\n",
    "        else:\n",
    "            img_name_b2 = \"0_B2_Layer_\"+str(layer_no)+\".jpg\"\n",
    "            #print(\"False\")\n",
    "            \n",
    "        if (layer_no in b3_prosity_index):\n",
    "            img_name_b3 = \"1_B3_Layer_\"+str(layer_no)+\".jpg\"\n",
    "            #print(layer_no)\n",
    "            #print(\"True\")\n",
    "        else:\n",
    "            img_name_b3 = \"0_B3_Layer_\"+str(layer_no)+\".jpg\"\n",
    "            #print(\"False\")\n",
    "        ########### store image\n",
    "        if(layer_no>243 and layer_no<1243):\n",
    "            img_name = directory[0] + img_name_b1\n",
    "            matplotlib.image.imsave(img_name, img1)\n",
    "        \n",
    "            img_name = directory[1] + img_name_b2\n",
    "            matplotlib.image.imsave(img_name, img2)\n",
    "        if(layer_no>218 and layer_no<1218):\n",
    "            img_name = directory[2] + img_name_b3\n",
    "            matplotlib.image.imsave(img_name, img3)\n",
    "        #break\n"
   ]
  },
  {
   "cell_type": "code",
   "execution_count": 9,
   "metadata": {},
   "outputs": [],
   "source": [
    "# Load all image paths\n",
    "img_dir_paths, img_names = load_all_image_path(\"D:/UoH_PhD_Exp/Data/Build2\")"
   ]
  },
  {
   "cell_type": "code",
   "execution_count": 10,
   "metadata": {},
   "outputs": [
    {
     "name": "stdout",
     "output_type": "stream",
     "text": [
      "<class 'list'>\n",
      "2922\n",
      "<class 'list'>\n",
      "2922\n"
     ]
    }
   ],
   "source": [
    "def var_info(var):\n",
    "    print(type(var))\n",
    "    print(len(var))\n",
    "var_info(img_dir_paths)\n",
    "var_info(img_names)"
   ]
  },
  {
   "cell_type": "code",
   "execution_count": 11,
   "metadata": {},
   "outputs": [],
   "source": [
    "# Make directories to store crop images if the the directories don't exsists already\n",
    "directories = [\"D:/UoH_PhD_Exp/Data/Crop_images/B1/\", \"D:/UoH_PhD_Exp/Data/Crop_images/B2/\", \"D:/UoH_PhD_Exp/Data/Crop_images/B3/\"]\n",
    "for directory in directories:\n",
    "    if not os.path.exists(directory):\n",
    "        os.makedirs(directory)"
   ]
  },
  {
   "cell_type": "markdown",
   "metadata": {},
   "source": [
    "#### Remove all the old files in B1, B2 & B3 folder\n",
    "> Since we will be cropping images many times depedning upon the task at hand. Therefore, it is necessary to delete the old cropped images before saving the new cropped images. The following code empty the directories."
   ]
  },
  {
   "cell_type": "code",
   "execution_count": 12,
   "metadata": {},
   "outputs": [],
   "source": [
    "for directory in directories:\n",
    "    files = glob.glob(os.path.join(directory,\"*\"))\n",
    "    for f in files:\n",
    "        os.remove(f)"
   ]
  },
  {
   "cell_type": "markdown",
   "metadata": {},
   "source": [
    ">Since out of all the images the first 1250 layers/images are relevant to our builts. That's why only the first 1250 are considered. For B1, B2, and B3, the effective printing layers are 217-1206. For simplicity, uniformity and avoiding complexity, the relevant 1250 layers are selected."
   ]
  },
  {
   "cell_type": "code",
   "execution_count": 13,
   "metadata": {},
   "outputs": [],
   "source": [
    "#cropping images\n",
    "crop_save_images(img_dir_paths[217:1206] ,directories, img_names[217:1206]) "
   ]
  },
  {
   "cell_type": "markdown",
   "metadata": {},
   "source": [
    "### B1 Cylinder images"
   ]
  },
  {
   "cell_type": "code",
   "execution_count": 14,
   "metadata": {},
   "outputs": [
    {
     "name": "stdout",
     "output_type": "stream",
     "text": [
      "B1 image shape:  (190, 150, 3)\n",
      "B1 images dataset shape:  (963, 190, 150, 3)\n",
      "[0 1] [826 137]\n",
      "Total non-porosity images in B1:  826\n",
      "Total porosity images in B1:  137\n"
     ]
    }
   ],
   "source": [
    "files, labels = load_all_image_path(\"D:/UoH_PhD_Exp/Data/Crop_images/B1/\")\n",
    "#print(labels[0])\n",
    "#print(files[0])\n",
    "data = []\n",
    "b1_labels = list()\n",
    "b1_layer_numbers = list()\n",
    "for f1, lab in zip(files, labels):\n",
    "    #print(\"lab:\" + lab)\n",
    "    layer_num = re.search('Layer_(.+?).jpg', lab).group(1)\n",
    "    b1_layer_numbers.append(\"b1_\"+str(layer_num))\n",
    "    b1_labels.append(int(lab[0]))\n",
    "    img = cv2.imread(f1)\n",
    "    ######### Convert to Images to grey scale.\n",
    "    #gray = cv2.cvtColor(img, cv2.COLOR_BGR2GRAY)\n",
    "    data.append(img)\n",
    "b1_images = np.array(data)\n",
    "print(\"B1 image shape: \", b1_images[0].shape)\n",
    "#print(b1_labels[0])\n",
    "#print(b1_layer_numbers[0])\n",
    "print(\"B1 images dataset shape: \",b1_images.shape)\n",
    "(unique, counts) = np.unique(b1_labels, return_counts=True)\n",
    "print(unique, counts)\n",
    "print(\"Total non-porosity images in B1: \", counts[0])\n",
    "print(\"Total porosity images in B1: \", counts[1])"
   ]
  },
  {
   "cell_type": "markdown",
   "metadata": {},
   "source": [
    "### B2 Cylinder images"
   ]
  },
  {
   "cell_type": "code",
   "execution_count": 15,
   "metadata": {},
   "outputs": [
    {
     "name": "stdout",
     "output_type": "stream",
     "text": [
      "B2 image shape:  (190, 150, 3)\n",
      "B2 images dataset shape:  (963, 190, 150, 3)\n",
      "[0 1] [854 109]\n",
      "Total non-porosity images in B2:  854\n",
      "Total porosity images in B2:  109\n"
     ]
    }
   ],
   "source": [
    "files, labels = load_all_image_path(\"D:/UoH_PhD_Exp/Data/Crop_images/B2/\")\n",
    "data = []\n",
    "b2_labels = list()\n",
    "b2_layer_numbers = list()\n",
    "for f1, lab in zip(files, labels):\n",
    "    layer_num = re.search('Layer_(.+?).jpg', lab).group(1)\n",
    "    b2_layer_numbers.append(\"b2_\"+str(layer_num))\n",
    "    img = cv2.imread(f1)\n",
    "    b2_labels.append(int(lab[0]))\n",
    "    ######## Convert to Images to grey scale.\n",
    "    #gray = cv2.cvtColor(img, cv2.COLOR_BGR2GRAY)\n",
    "    data.append(img)\n",
    "b2_images = np.array(data)\n",
    "print(\"B2 image shape: \", b2_images[0].shape)\n",
    "#print(b2_labels[0])\n",
    "#print(b2_layer_numbers[0])\n",
    "print(\"B2 images dataset shape: \",b2_images.shape)\n",
    "(unique, counts) = np.unique(b2_labels, return_counts=True)\n",
    "print(unique, counts)\n",
    "print(\"Total non-porosity images in B2: \", counts[0])\n",
    "print(\"Total porosity images in B2: \", counts[1])"
   ]
  },
  {
   "cell_type": "markdown",
   "metadata": {},
   "source": [
    "### B3 Cylinder images"
   ]
  },
  {
   "cell_type": "code",
   "execution_count": 16,
   "metadata": {},
   "outputs": [
    {
     "name": "stdout",
     "output_type": "stream",
     "text": [
      "B1 image shape:  (190, 150, 3)\n",
      "B3 images dataset shape:  (963, 190, 150, 3)\n",
      "[0 1] [898  65]\n",
      "Total non-porosity images in B3:  898\n",
      "Total porosity images in B3:  65\n"
     ]
    }
   ],
   "source": [
    "files, labels = load_all_image_path(\"D:/UoH_PhD_Exp/Data/Crop_images/B3\")\n",
    "data = []\n",
    "b3_labels = list()\n",
    "b3_layer_numbers = list()\n",
    "for f1, lab in zip(files, labels):\n",
    "    layer_num = re.search('Layer_(.+?).jpg', lab).group(1)\n",
    "    b3_layer_numbers.append(\"b3_\"+str(layer_num))\n",
    "    img = cv2.imread(f1)\n",
    "    b3_labels.append(int(lab[0]))\n",
    "    ######## Convert to Images to grey scale.\n",
    "    #gray = cv2.cvtColor(img, cv2.COLOR_BGR2GRAY)\n",
    "    data.append(img)\n",
    "b3_images = np.array(data)\n",
    "print(\"B1 image shape: \", b3_images[0].shape)\n",
    "#print(b3_labels[0])\n",
    "#print(b3_layer_numbers[0])\n",
    "print(\"B3 images dataset shape: \",b3_images.shape)\n",
    "(unique, counts) = np.unique(b3_labels, return_counts=True)\n",
    "print(unique, counts)\n",
    "print(\"Total non-porosity images in B3: \", counts[0])\n",
    "print(\"Total porosity images in B3: \", counts[1])"
   ]
  },
  {
   "cell_type": "markdown",
   "metadata": {},
   "source": [
    "### Augmented porosity images\n",
    "> Here first, we will contatenate all the B1,B2 and B3 images into one dataset. Then we will separate all porosity images. The porosity images will be use to generate similar augmented porosity images."
   ]
  },
  {
   "cell_type": "code",
   "execution_count": 22,
   "metadata": {},
   "outputs": [
    {
     "name": "stdout",
     "output_type": "stream",
     "text": [
      "X Shape: (2889, 190, 150, 3)\n",
      "Total non-porosity images:  2578\n",
      "Total porosity images:  311\n"
     ]
    }
   ],
   "source": [
    "X = np.concatenate((b1_images, b2_images, b3_images), axis=0)\n",
    "y = b1_labels + b2_labels + b3_labels\n",
    "layer_nums = b1_layer_numbers + b2_layer_numbers + b3_layer_numbers\n",
    "print(\"X Shape: \" + str(X.shape))\n",
    "(unique, counts) = np.unique(y, return_counts=True)\n",
    "print(\"Total non-porosity images: \", counts[0])\n",
    "print(\"Total porosity images: \", counts[1])"
   ]
  },
  {
   "cell_type": "code",
   "execution_count": 23,
   "metadata": {},
   "outputs": [
    {
     "name": "stdout",
     "output_type": "stream",
     "text": [
      "311\n",
      "311\n"
     ]
    }
   ],
   "source": [
    "# Take indexes in list y where y=1 i.e. porosity labels.\n",
    "porosity_indices = np.where(y)[0]\n",
    "print(len(porosity_indices))\n",
    "\n",
    "#Take corresponding porosity images from the images dataset X.\n",
    "porosity_imgs = X[porosity_indices]\n",
    "print(len(porosity_imgs))"
   ]
  },
  {
   "cell_type": "code",
   "execution_count": 24,
   "metadata": {},
   "outputs": [],
   "source": [
    "from keras.preprocessing.image import ImageDataGenerator\n",
    "#from skimage import io\n",
    "datagen = ImageDataGenerator(        \n",
    "        horizontal_flip = True,\n",
    "        vertical_flip = True,\n",
    "        width_shift_range=0.1,\n",
    "        height_shift_range=0.1,\n",
    "        fill_mode='nearest', #reflect\n",
    "        \n",
    ")\n",
    "#import numpy as np\n",
    "#import os\n",
    "#from PIL import Image\n",
    "\n",
    "x = porosity_imgs\n",
    "i = 0\n",
    "for batch in datagen.flow(x, batch_size=23,\n",
    "                          save_to_dir= r'D:/UoH_PhD_Exp/Data/Augmented_imgs',\n",
    "                          save_prefix='dr',\n",
    "                          save_format='jpg'):    \n",
    "    i += 1    \n",
    "    if i > 100:        \n",
    "        break"
   ]
  },
  {
   "cell_type": "code",
   "execution_count": 27,
   "metadata": {},
   "outputs": [
    {
     "name": "stdout",
     "output_type": "stream",
     "text": [
      "(190, 150, 3)\n",
      "1\n",
      "Total non-porosity images in B3:  2246\n"
     ]
    }
   ],
   "source": [
    "files, labels = load_all_image_path(\"D:/UoH_PhD_Exp/Data/Augmented_imgs\")\n",
    "data = []\n",
    "augmented_labels = list()\n",
    "for f1, lab in zip(files, labels):\n",
    "    img = cv2.imread(f1)\n",
    "    augmented_labels.append(int(1))\n",
    "    ######## Convert to Images to grey scale.\n",
    "    #gray = cv2.cvtColor(img, cv2.COLOR_BGR2GRAY)\n",
    "    data.append(img)\n",
    "augmented_images = np.array(data)\n",
    "print(augmented_images[0].shape)\n",
    "print(augmented_labels[0])\n",
    "\n",
    "print(\"Total augmented porosity images: \", len(augmented_labels))"
   ]
  },
  {
   "cell_type": "markdown",
   "metadata": {},
   "source": [
    "# Concatenate B1 + B2 + B3 + Augmented images = Balanced dataset"
   ]
  },
  {
   "cell_type": "code",
   "execution_count": 31,
   "metadata": {},
   "outputs": [
    {
     "name": "stdout",
     "output_type": "stream",
     "text": [
      "XX Shape: (5135, 190, 150, 3)\n",
      "Total yy: 5135\n",
      "Total non-porosity images in balanced dataset:  2578\n",
      "Total porosity images in balanced dataset:  2557\n"
     ]
    }
   ],
   "source": [
    "XX = np.concatenate((b1_images, b2_images, b3_images, augmented_images), axis=0)\n",
    "yy = b1_labels + b2_labels + b3_labels + augmented_labels\n",
    "#layer_nums = b1_layer_numbers + b2_layer_numbers + b3_layer_numbers\n",
    "print(\"XX Shape: \" + str(XX.shape))\n",
    "print(\"Total yy: \" + str(len(yy)))\n",
    "\n",
    "(unique, counts) = np.unique(yy, return_counts=True)\n",
    "print(\"Total non-porosity images in balanced dataset: \", counts[0])\n",
    "print(\"Total porosity images in balanced dataset: \", counts[1])"
   ]
  },
  {
   "cell_type": "markdown",
   "metadata": {},
   "source": [
    "## Store Images on hard-drive as HDF5 formate"
   ]
  },
  {
   "cell_type": "code",
   "execution_count": 32,
   "metadata": {},
   "outputs": [],
   "source": [
    "def store_many_hdf5(images, labels, file_path):\n",
    "    \"\"\" Stores an array of images to HDF5.\n",
    "        Parameters:\n",
    "        ---------------\n",
    "        images       images array, (N, 32, 32, 3) to be stored\n",
    "        labels       labels array, (N, 1) to be stored\n",
    "    \"\"\"\n",
    "    hdf5_dir = file_path\n",
    "    num_images = len(images)\n",
    "\n",
    "    # Create a new HDF5 file\n",
    "    file = h5py.File(hdf5_dir, \"w\")\n",
    "\n",
    "    # Create a dataset in the file\n",
    "    dataset = file.create_dataset(\n",
    "        \"images\", np.shape(images), h5py.h5t.STD_U8BE, data=images\n",
    "    )\n",
    "    meta_set = file.create_dataset(\n",
    "        \"meta\", np.shape(labels), h5py.h5t.STD_U8BE, data=labels\n",
    "    )\n",
    "    file.close()"
   ]
  },
  {
   "cell_type": "code",
   "execution_count": 33,
   "metadata": {},
   "outputs": [],
   "source": [
    "dir_file_path = \"D:/UoH_PhD_Exp/Data/Data_HDF/Porosity_Balanced_Data.h5\"\n",
    "store_many_hdf5(XX,yy, dir_file_path)"
   ]
  },
  {
   "cell_type": "code",
   "execution_count": 34,
   "metadata": {},
   "outputs": [],
   "source": [
    "def read_many_hdf5(num_images, file_path):\n",
    "    \"\"\" Reads image from HDF5.\n",
    "        Parameters:\n",
    "        ---------------\n",
    "        num_images   number of images to read\n",
    "\n",
    "        Returns:\n",
    "        ----------\n",
    "        images      images array, (N, 32, 32, 3) to be stored\n",
    "        labels      associated meta data, int label (N, 1)\n",
    "    \"\"\"\n",
    "    images, labels = [], []\n",
    "\n",
    "    # Open the HDF5 file\n",
    "    file = h5py.File(file_path, \"r+\")\n",
    "\n",
    "    images = np.array(file[\"/images\"]).astype(\"uint8\")\n",
    "    labels = np.array(file[\"/meta\"]).astype(\"uint8\")\n",
    "\n",
    "    return images, labels"
   ]
  },
  {
   "cell_type": "code",
   "execution_count": 38,
   "metadata": {},
   "outputs": [
    {
     "name": "stdout",
     "output_type": "stream",
     "text": [
      "(5135, 190, 150, 3)\n",
      "5135\n",
      "Total non-porosity images in balanced dataset:  2578\n",
      "Total porosity images in balanced dataset:  2557\n"
     ]
    }
   ],
   "source": [
    "dir_file_path = \"D:/UoH_PhD_Exp/Data/Data_HDF/Porosity_Balanced_Data.h5\"\n",
    "X, y = read_many_hdf5(0,dir_file_path)\n",
    "print(X.shape)\n",
    "print(len(y))\n",
    "(unique, counts) = np.unique(y, return_counts=True)\n",
    "print(\"Total non-porosity images in balanced dataset: \", counts[0])\n",
    "print(\"Total porosity images in balanced dataset: \", counts[1])"
   ]
  },
  {
   "cell_type": "code",
   "execution_count": null,
   "metadata": {},
   "outputs": [],
   "source": []
  },
  {
   "cell_type": "code",
   "execution_count": null,
   "metadata": {},
   "outputs": [],
   "source": []
  }
 ],
 "metadata": {
  "kernelspec": {
   "display_name": "my_ve_env",
   "language": "python",
   "name": "my_ve_env"
  },
  "language_info": {
   "codemirror_mode": {
    "name": "ipython",
    "version": 3
   },
   "file_extension": ".py",
   "mimetype": "text/x-python",
   "name": "python",
   "nbconvert_exporter": "python",
   "pygments_lexer": "ipython3",
   "version": "3.9.0"
  }
 },
 "nbformat": 4,
 "nbformat_minor": 2
}
